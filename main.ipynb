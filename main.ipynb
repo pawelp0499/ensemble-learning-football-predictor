{
 "cells": [
  {
   "cell_type": "markdown",
   "metadata": {},
   "source": [
    "\n",
    "**Loading required libraries**"
   ]
  },
  {
   "cell_type": "code",
   "execution_count": 62,
   "metadata": {},
   "outputs": [
    {
     "name": "stdout",
     "output_type": "stream",
     "text": [
      "Requirement already satisfied: plotnine in c:\\users\\pawel\\appdata\\local\\programs\\python\\python310\\lib\\site-packages (0.10.1)\n",
      "Requirement already satisfied: patsy>=0.5.1 in c:\\users\\pawel\\appdata\\local\\programs\\python\\python310\\lib\\site-packages (from plotnine) (0.5.3)\n",
      "Requirement already satisfied: mizani>=0.8.1 in c:\\users\\pawel\\appdata\\local\\programs\\python\\python310\\lib\\site-packages (from plotnine) (0.8.1)\n",
      "Requirement already satisfied: matplotlib>=3.5.0 in c:\\users\\pawel\\appdata\\local\\programs\\python\\python310\\lib\\site-packages (from plotnine) (3.5.1)\n",
      "Requirement already satisfied: pandas>=1.3.5 in c:\\users\\pawel\\appdata\\local\\programs\\python\\python310\\lib\\site-packages (from plotnine) (1.4.1)\n",
      "Requirement already satisfied: statsmodels>=0.13.2 in c:\\users\\pawel\\appdata\\local\\programs\\python\\python310\\lib\\site-packages (from plotnine) (0.13.5)\n",
      "Requirement already satisfied: numpy>=1.19.0 in c:\\users\\pawel\\appdata\\local\\programs\\python\\python310\\lib\\site-packages (from plotnine) (1.24.2)\n",
      "Requirement already satisfied: scipy>=1.5.0 in c:\\users\\pawel\\appdata\\local\\programs\\python\\python310\\lib\\site-packages (from plotnine) (1.9.3)\n",
      "Requirement already satisfied: python-dateutil>=2.7 in c:\\users\\pawel\\appdata\\local\\programs\\python\\python310\\lib\\site-packages (from matplotlib>=3.5.0->plotnine) (2.8.2)\n",
      "Requirement already satisfied: pillow>=6.2.0 in c:\\users\\pawel\\appdata\\local\\programs\\python\\python310\\lib\\site-packages (from matplotlib>=3.5.0->plotnine) (9.0.1)\n",
      "Requirement already satisfied: pyparsing>=2.2.1 in c:\\users\\pawel\\appdata\\local\\programs\\python\\python310\\lib\\site-packages (from matplotlib>=3.5.0->plotnine) (3.0.7)\n",
      "Requirement already satisfied: cycler>=0.10 in c:\\users\\pawel\\appdata\\local\\programs\\python\\python310\\lib\\site-packages (from matplotlib>=3.5.0->plotnine) (0.11.0)\n",
      "Requirement already satisfied: kiwisolver>=1.0.1 in c:\\users\\pawel\\appdata\\local\\programs\\python\\python310\\lib\\site-packages (from matplotlib>=3.5.0->plotnine) (1.4.0)\n",
      "Requirement already satisfied: fonttools>=4.22.0 in c:\\users\\pawel\\appdata\\local\\programs\\python\\python310\\lib\\site-packages (from matplotlib>=3.5.0->plotnine) (4.30.0)\n",
      "Requirement already satisfied: packaging>=20.0 in c:\\users\\pawel\\appdata\\local\\programs\\python\\python310\\lib\\site-packages (from matplotlib>=3.5.0->plotnine) (21.3)\n",
      "Requirement already satisfied: tzdata in c:\\users\\pawel\\appdata\\local\\programs\\python\\python310\\lib\\site-packages (from mizani>=0.8.1->plotnine) (2023.3)\n",
      "Requirement already satisfied: palettable in c:\\users\\pawel\\appdata\\local\\programs\\python\\python310\\lib\\site-packages (from mizani>=0.8.1->plotnine) (3.3.1)\n",
      "Requirement already satisfied: pytz>=2020.1 in c:\\users\\pawel\\appdata\\local\\programs\\python\\python310\\lib\\site-packages (from pandas>=1.3.5->plotnine) (2021.3)\n",
      "Requirement already satisfied: six in c:\\users\\pawel\\appdata\\local\\programs\\python\\python310\\lib\\site-packages (from patsy>=0.5.1->plotnine) (1.16.0)\n",
      "Note: you may need to restart the kernel to use updated packages.\n"
     ]
    },
    {
     "name": "stderr",
     "output_type": "stream",
     "text": [
      "WARNING: You are using pip version 21.2.4; however, version 24.3.1 is available.\n",
      "You should consider upgrading via the 'c:\\Users\\pawel\\AppData\\Local\\Programs\\Python\\Python310\\python.exe -m pip install --upgrade pip' command.\n"
     ]
    },
    {
     "name": "stdout",
     "output_type": "stream",
     "text": [
      "Requirement already satisfied: seaborn in c:\\users\\pawel\\appdata\\local\\programs\\python\\python310\\lib\\site-packages (0.12.1)\n",
      "Requirement already satisfied: pandas>=0.25 in c:\\users\\pawel\\appdata\\local\\programs\\python\\python310\\lib\\site-packages (from seaborn) (1.4.1)\n",
      "Requirement already satisfied: numpy>=1.17 in c:\\users\\pawel\\appdata\\local\\programs\\python\\python310\\lib\\site-packages (from seaborn) (1.24.2)\n",
      "Requirement already satisfied: matplotlib!=3.6.1,>=3.1 in c:\\users\\pawel\\appdata\\local\\programs\\python\\python310\\lib\\site-packages (from seaborn) (3.5.1)\n",
      "Requirement already satisfied: cycler>=0.10 in c:\\users\\pawel\\appdata\\local\\programs\\python\\python310\\lib\\site-packages (from matplotlib!=3.6.1,>=3.1->seaborn) (0.11.0)\n",
      "Requirement already satisfied: pillow>=6.2.0 in c:\\users\\pawel\\appdata\\local\\programs\\python\\python310\\lib\\site-packages (from matplotlib!=3.6.1,>=3.1->seaborn) (9.0.1)\n",
      "Requirement already satisfied: packaging>=20.0 in c:\\users\\pawel\\appdata\\local\\programs\\python\\python310\\lib\\site-packages (from matplotlib!=3.6.1,>=3.1->seaborn) (21.3)\n",
      "Requirement already satisfied: fonttools>=4.22.0 in c:\\users\\pawel\\appdata\\local\\programs\\python\\python310\\lib\\site-packages (from matplotlib!=3.6.1,>=3.1->seaborn) (4.30.0)\n",
      "Requirement already satisfied: kiwisolver>=1.0.1 in c:\\users\\pawel\\appdata\\local\\programs\\python\\python310\\lib\\site-packages (from matplotlib!=3.6.1,>=3.1->seaborn) (1.4.0)\n",
      "Requirement already satisfied: pyparsing>=2.2.1 in c:\\users\\pawel\\appdata\\local\\programs\\python\\python310\\lib\\site-packages (from matplotlib!=3.6.1,>=3.1->seaborn) (3.0.7)\n",
      "Requirement already satisfied: python-dateutil>=2.7 in c:\\users\\pawel\\appdata\\local\\programs\\python\\python310\\lib\\site-packages (from matplotlib!=3.6.1,>=3.1->seaborn) (2.8.2)\n",
      "Requirement already satisfied: pytz>=2020.1 in c:\\users\\pawel\\appdata\\local\\programs\\python\\python310\\lib\\site-packages (from pandas>=0.25->seaborn) (2021.3)\n",
      "Requirement already satisfied: six>=1.5 in c:\\users\\pawel\\appdata\\local\\programs\\python\\python310\\lib\\site-packages (from python-dateutil>=2.7->matplotlib!=3.6.1,>=3.1->seaborn) (1.16.0)\n",
      "Note: you may need to restart the kernel to use updated packages.\n"
     ]
    },
    {
     "name": "stderr",
     "output_type": "stream",
     "text": [
      "WARNING: You are using pip version 21.2.4; however, version 24.3.1 is available.\n",
      "You should consider upgrading via the 'c:\\Users\\pawel\\AppData\\Local\\Programs\\Python\\Python310\\python.exe -m pip install --upgrade pip' command.\n"
     ]
    },
    {
     "name": "stdout",
     "output_type": "stream",
     "text": [
      "Requirement already satisfied: scikit-learn in c:\\users\\pawel\\appdata\\local\\programs\\python\\python310\\lib\\site-packages (1.1.3)\n",
      "Requirement already satisfied: joblib>=1.0.0 in c:\\users\\pawel\\appdata\\local\\programs\\python\\python310\\lib\\site-packages (from scikit-learn) (1.2.0)\n",
      "Requirement already satisfied: scipy>=1.3.2 in c:\\users\\pawel\\appdata\\local\\programs\\python\\python310\\lib\\site-packages (from scikit-learn) (1.9.3)\n",
      "Requirement already satisfied: threadpoolctl>=2.0.0 in c:\\users\\pawel\\appdata\\local\\programs\\python\\python310\\lib\\site-packages (from scikit-learn) (3.1.0)\n",
      "Requirement already satisfied: numpy>=1.17.3 in c:\\users\\pawel\\appdata\\local\\programs\\python\\python310\\lib\\site-packages (from scikit-learn) (1.24.2)\n",
      "Note: you may need to restart the kernel to use updated packages.\n"
     ]
    },
    {
     "name": "stderr",
     "output_type": "stream",
     "text": [
      "WARNING: You are using pip version 21.2.4; however, version 24.3.1 is available.\n",
      "You should consider upgrading via the 'c:\\Users\\pawel\\AppData\\Local\\Programs\\Python\\Python310\\python.exe -m pip install --upgrade pip' command.\n"
     ]
    }
   ],
   "source": [
    "%pip install plotnine\n",
    "%pip install seaborn\n",
    "%pip install scikit-learn"
   ]
  },
  {
   "cell_type": "code",
   "execution_count": 2,
   "metadata": {},
   "outputs": [],
   "source": [
    "import pandas as pd\n",
    "import numpy as np\n",
    "from sklearn.model_selection import GridSearchCV\n",
    "from sklearn.ensemble import RandomForestClassifier,  BaggingClassifier, GradientBoostingClassifier\n",
    "import seaborn as sns\n",
    "from sklearn.tree import DecisionTreeClassifier\n",
    "from sklearn.model_selection import train_test_split\n",
    "from sklearn.metrics import confusion_matrix, ConfusionMatrixDisplay, classification_report, accuracy_score, precision_score, recall_score, make_scorer\n",
    "from sklearn.linear_model import LogisticRegression\n",
    "from xgboost import XGBClassifier\n",
    "from sklearn.naive_bayes import GaussianNB\n",
    "from sklearn.neighbors import KNeighborsClassifier\n",
    "from sklearn.ensemble import VotingClassifier\n",
    "from sklearn.ensemble import GradientBoostingRegressor\n",
    "from sklearn.ensemble import StackingClassifier\n",
    "from sklearn.neural_network import MLPClassifier\n",
    "from plotnine import *\n",
    "import matplotlib.pyplot as plt\n",
    "import warnings\n",
    "warnings.filterwarnings(\"ignore\")"
   ]
  },
  {
   "cell_type": "markdown",
   "metadata": {},
   "source": [
    "**Loading source datasets and data preprocessing**"
   ]
  },
  {
   "cell_type": "code",
   "execution_count": 3,
   "metadata": {},
   "outputs": [],
   "source": [
    "old_season_cols = [\"Div\",\"Date\", \"HomeTeam\", \"AwayTeam\",\"FTHG\",\"FTAG\",\"FTR\",\"HTHG\",\"HTAG\",\"HTR\",\"HS\",\"AS\",\"HST\",\"AST\",\"HF\",\"AF\",\"HC\",\"AC\",\"HY\",\"AY\",\"HR\",\"AR\", \n",
    "        \"B365H\",\"B365D\",\"B365A\",\"BWH\",\"BWD\",\"BWA\",\"IWH\",\"IWD\",\"IWA\",\"LBH\",\"LBD\",\"LBA\",\"PSH\",\"PSD\",\"PSA\",\"WHH\",\"WHD\",\"WHA\",\"VCH\",\"VCD\",\"VCA\", \"BbAvH\", \"BbAvD\", \"BbAvA\",\n",
    "        \"BbAv>2.5\",\"BbAv<2.5\"]\n",
    "bundes_new_season_cols = [\"Div\",\"Date\", \"HomeTeam\", \"AwayTeam\",\"FTHG\",\"FTAG\",\"FTR\",\"HTHG\",\"HTAG\",\"HTR\",\"HS\",\"AS\",\"HST\",\"AST\",\"HF\",\"AF\",\"HC\",\"AC\",\"HY\",\"AY\",\"HR\",\"AR\",\"AvgH\",\"AvgD\",\"AvgA\",\"AvgC>2.5\",\"AvgC<2.5\"]\n",
    "laliga_new_season_cols = [\"Div\",\"Date\", \"HomeTeam\", \"AwayTeam\",\"FTHG\",\"FTAG\",\"FTR\",\"HTHG\",\"HTAG\",\"HTR\",\"HS\",\"AS\",\"HST\",\"AST\",\"HF\",\"AF\",\"HC\",\"AC\",\"HY\",\"AY\",\"HR\",\"AR\",\"AvgH\",\"AvgD\",\"AvgA\",\"Avg>2.5\",\"Avg<2.5\"]\n",
    "seriea_new_season_cols = [\"Div\",\"Date\", \"HomeTeam\", \"AwayTeam\",\"FTHG\",\"FTAG\",\"FTR\",\"HTHG\",\"HTAG\",\"HTR\",\"HS\",\"AS\",\"HST\",\"AST\",\"HF\",\"AF\",\"HC\",\"AC\",\"HY\",\"AY\",\"HR\",\"AR\",\"AvgH\",\"AvgD\",\"AvgA\",\"Avg>2.5\",\"Avg<2.5\"]\n",
    "pl_new_season_cols = [\"Div\",\"Date\", \"HomeTeam\", \"AwayTeam\",\"FTHG\",\"FTAG\",\"FTR\",\"HTHG\",\"HTAG\",\"HTR\",\"HS\",\"AS\",\"HST\",\"AST\",\"HF\",\"AF\",\"HC\",\"AC\",\"HY\",\"AY\",\"HR\",\"AR\",\"AvgH\",\"AvgD\",\"AvgA\",\"Avg>2.5\",\"Avg<2.5\"]\n",
    "\n",
    "'''Bundesliga'''\n",
    "bundes_1011 = pd.read_csv('./data/preprocessing/bundesliga/bundes10-11.csv', usecols=[\"Div\",\"Date\", \"HomeTeam\", \"AwayTeam\",\"FTHG\",\"FTAG\",\"FTR\",\"HTHG\",\"HTAG\",\"HTR\",\"HS\",\"AS\",\"HST\",\"AST\",\"HF\",\"AF\",\"HC\",\"AC\",\"HY\",\"AY\",\"HR\",\"AR\", \n",
    "        \"B365H\",\"B365D\",\"B365A\",\"BWH\",\"BWD\",\"BWA\",\"IWH\",\"IWD\",\"IWA\",\"LBH\",\"LBD\",\"LBA\",\"WHH\",\"WHD\",\"WHA\",\"VCH\",\"VCD\",\"VCA\", \"BbAvH\", \"BbAvD\", \"BbAvA\",\n",
    "        \"BbAv>2.5\",\"BbAv<2.5\"])\n",
    "bundes_1112 = pd.read_csv('./data/preprocessing/bundesliga/bundes11-12.csv', usecols=[\"Div\",\"Date\", \"HomeTeam\", \"AwayTeam\",\"FTHG\",\"FTAG\",\"FTR\",\"HTHG\",\"HTAG\",\"HTR\",\"HS\",\"AS\",\"HST\",\"AST\",\"HF\",\"AF\",\"HC\",\"AC\",\"HY\",\"AY\",\"HR\",\"AR\", \n",
    "        \"B365H\",\"B365D\",\"B365A\",\"BWH\",\"BWD\",\"BWA\",\"IWH\",\"IWD\",\"IWA\",\"LBH\",\"LBD\",\"LBA\",\"WHH\",\"WHD\",\"WHA\",\"VCH\",\"VCD\",\"VCA\", \"BbAvH\", \"BbAvD\", \"BbAvA\",\n",
    "        \"BbAv>2.5\",\"BbAv<2.5\"])\n",
    "bundes_1213 = pd.read_csv('./data/preprocessing/bundesliga/bundes12-13.csv', usecols=[\"Div\",\"Date\", \"HomeTeam\", \"AwayTeam\",\"FTHG\",\"FTAG\",\"FTR\",\"HTHG\",\"HTAG\",\"HTR\",\"HS\",\"AS\",\"HST\",\"AST\",\"HF\",\"AF\",\"HC\",\"AC\",\"HY\",\"AY\",\"HR\",\"AR\", \n",
    "        \"B365H\",\"B365D\",\"B365A\",\"BWH\",\"BWD\",\"BWA\",\"IWH\",\"IWD\",\"IWA\",\"LBH\",\"LBD\",\"LBA\",\"WHH\",\"WHD\",\"WHA\",\"VCH\",\"VCD\",\"VCA\", \"BbAvH\", \"BbAvD\", \"BbAvA\",\n",
    "        \"BbAv>2.5\",\"BbAv<2.5\"])\n",
    "bundes_1314 = pd.read_csv('./data/preprocessing/bundesliga/bundes13-14.csv', usecols=[\"Div\",\"Date\", \"HomeTeam\", \"AwayTeam\",\"FTHG\",\"FTAG\",\"FTR\",\"HTHG\",\"HTAG\",\"HTR\",\"HS\",\"AS\",\"HST\",\"AST\",\"HF\",\"AF\",\"HC\",\"AC\",\"HY\",\"AY\",\"HR\",\"AR\", \n",
    "        \"B365H\",\"B365D\",\"B365A\",\"BWH\",\"BWD\",\"BWA\",\"IWH\",\"IWD\",\"IWA\",\"LBH\",\"LBD\",\"LBA\",\"WHH\",\"WHD\",\"WHA\",\"VCH\",\"VCD\",\"VCA\", \"BbAvH\", \"BbAvD\", \"BbAvA\",\n",
    "        \"BbAv>2.5\",\"BbAv<2.5\"])\n",
    "bundes_1415 = pd.read_csv('./data/preprocessing/bundesliga/bundes14-15.csv', usecols=[\"Div\",\"Date\", \"HomeTeam\", \"AwayTeam\",\"FTHG\",\"FTAG\",\"FTR\",\"HTHG\",\"HTAG\",\"HTR\",\"HS\",\"AS\",\"HST\",\"AST\",\"HF\",\"AF\",\"HC\",\"AC\",\"HY\",\"AY\",\"HR\",\"AR\", \n",
    "        \"B365H\",\"B365D\",\"B365A\",\"BWH\",\"BWD\",\"BWA\",\"IWH\",\"IWD\",\"IWA\",\"LBH\",\"LBD\",\"LBA\",\"WHH\",\"WHD\",\"WHA\",\"VCH\",\"VCD\",\"VCA\", \"BbAvH\", \"BbAvD\", \"BbAvA\",\n",
    "        \"BbAv>2.5\",\"BbAv<2.5\"])\n",
    "bundes_1516 = pd.read_csv('./data/preprocessing/bundesliga/bundes15-16.csv', usecols=old_season_cols)\n",
    "bundes_1617 = pd.read_csv('./data/preprocessing/bundesliga/bundes16-17.csv', usecols=old_season_cols)\n",
    "bundes_1718 = pd.read_csv('./data/preprocessing/bundesliga/bundes17-18.csv', usecols=old_season_cols)\n",
    "bundes_1819 = pd.read_csv('./data/preprocessing/bundesliga/bundes18-19.csv', usecols=[\"Div\",\"Date\", \"HomeTeam\", \"AwayTeam\",\"FTHG\",\"FTAG\",\"FTR\",\"HTHG\",\"HTAG\",\"HTR\",\"HS\",\"AS\",\"HST\",\"AST\",\"HF\",\"AF\",\"HC\",\"AC\",\"HY\",\"AY\",\"HR\",\"AR\", \n",
    "        \"B365H\",\"B365D\",\"B365A\",\"BWH\",\"BWD\",\"BWA\",\"IWH\",\"IWD\",\"IWA\",\"PSH\",\"PSD\",\"PSA\",\"WHH\",\"WHD\",\"WHA\",\"VCH\",\"VCD\",\"VCA\", \"BbAvH\", \"BbAvD\", \"BbAvA\",\n",
    "        \"BbAv>2.5\",\"BbAv<2.5\"])\n",
    "\n",
    "bundes_1920 = pd.read_csv('./data/preprocessing/bundesliga/bundes19-20.csv', usecols=bundes_new_season_cols)\n",
    "bundes_2021 = pd.read_csv('./data/preprocessing/bundesliga/bundes20-21.csv', usecols=bundes_new_season_cols)\n",
    "bundes_2122 = pd.read_csv('./data/preprocessing/bundesliga/bundes21-22.csv', usecols=bundes_new_season_cols)\n",
    "bundes_2223 = pd.read_csv('./data/preprocessing/bundesliga/bundes22-23.csv', usecols=bundes_new_season_cols)\n",
    "\n",
    "'''Laliga'''\n",
    "laliga_1011 = pd.read_csv('./data/preprocessing/laliga/laliga10-11.csv', usecols=[\"Div\",\"Date\", \"HomeTeam\", \"AwayTeam\",\"FTHG\",\"FTAG\",\"FTR\",\"HTHG\",\"HTAG\",\"HTR\",\"HS\",\"AS\",\"HST\",\"AST\",\"HF\",\"AF\",\"HC\",\"AC\",\"HY\",\"AY\",\"HR\",\"AR\", \n",
    "        \"B365H\",\"B365D\",\"B365A\",\"BWH\",\"BWD\",\"BWA\",\"IWH\",\"IWD\",\"IWA\",\"LBH\",\"LBD\",\"LBA\",\"WHH\",\"WHD\",\"WHA\",\"VCH\",\"VCD\",\"VCA\", \"BbAvH\", \"BbAvD\", \"BbAvA\",\n",
    "        \"BbAv>2.5\",\"BbAv<2.5\"])\n",
    "laliga_1112 = pd.read_csv('./data/preprocessing/laliga/laliga11-12.csv', usecols=[\"Div\",\"Date\", \"HomeTeam\", \"AwayTeam\",\"FTHG\",\"FTAG\",\"FTR\",\"HTHG\",\"HTAG\",\"HTR\",\"HS\",\"AS\",\"HST\",\"AST\",\"HF\",\"AF\",\"HC\",\"AC\",\"HY\",\"AY\",\"HR\",\"AR\", \n",
    "        \"B365H\",\"B365D\",\"B365A\",\"BWH\",\"BWD\",\"BWA\",\"IWH\",\"IWD\",\"IWA\",\"LBH\",\"LBD\",\"LBA\",\"WHH\",\"WHD\",\"WHA\",\"VCH\",\"VCD\",\"VCA\", \"BbAvH\", \"BbAvD\", \"BbAvA\",\n",
    "        \"BbAv>2.5\",\"BbAv<2.5\"])\n",
    "laliga_1213 = pd.read_csv('./data/preprocessing/laliga/laliga12-13.csv', usecols=[\"Div\",\"Date\", \"HomeTeam\", \"AwayTeam\",\"FTHG\",\"FTAG\",\"FTR\",\"HTHG\",\"HTAG\",\"HTR\",\"HS\",\"AS\",\"HST\",\"AST\",\"HF\",\"AF\",\"HC\",\"AC\",\"HY\",\"AY\",\"HR\",\"AR\", \n",
    "        \"B365H\",\"B365D\",\"B365A\",\"BWH\",\"BWD\",\"BWA\",\"IWH\",\"IWD\",\"IWA\",\"LBH\",\"LBD\",\"LBA\",\"WHH\",\"WHD\",\"WHA\",\"VCH\",\"VCD\",\"VCA\", \"BbAvH\", \"BbAvD\", \"BbAvA\",\n",
    "        \"BbAv>2.5\",\"BbAv<2.5\"])\n",
    "laliga_1314 = pd.read_csv('./data/preprocessing/laliga/laliga13-14.csv', usecols=[\"Div\",\"Date\", \"HomeTeam\", \"AwayTeam\",\"FTHG\",\"FTAG\",\"FTR\",\"HTHG\",\"HTAG\",\"HTR\",\"HS\",\"AS\",\"HST\",\"AST\",\"HF\",\"AF\",\"HC\",\"AC\",\"HY\",\"AY\",\"HR\",\"AR\", \n",
    "        \"B365H\",\"B365D\",\"B365A\",\"BWH\",\"BWD\",\"BWA\",\"IWH\",\"IWD\",\"IWA\",\"LBH\",\"LBD\",\"LBA\",\"WHH\",\"WHD\",\"WHA\",\"VCH\",\"VCD\",\"VCA\", \"BbAvH\", \"BbAvD\", \"BbAvA\",\n",
    "        \"BbAv>2.5\",\"BbAv<2.5\"])\n",
    "laliga_1415 = pd.read_csv('./data/preprocessing/laliga/laliga14-15.csv', usecols=[\"Div\",\"Date\", \"HomeTeam\", \"AwayTeam\",\"FTHG\",\"FTAG\",\"FTR\",\"HTHG\",\"HTAG\",\"HTR\",\"HS\",\"AS\",\"HST\",\"AST\",\"HF\",\"AF\",\"HC\",\"AC\",\"HY\",\"AY\",\"HR\",\"AR\", \n",
    "        \"B365H\",\"B365D\",\"B365A\",\"BWH\",\"BWD\",\"BWA\",\"IWH\",\"IWD\",\"IWA\",\"LBH\",\"LBD\",\"LBA\",\"WHH\",\"WHD\",\"WHA\",\"VCH\",\"VCD\",\"VCA\", \"BbAvH\", \"BbAvD\", \"BbAvA\",\n",
    "        \"BbAv>2.5\",\"BbAv<2.5\"])\n",
    "laliga_1516 = pd.read_csv('./data/preprocessing/laliga/laliga15-16.csv', usecols=old_season_cols)\n",
    "laliga_1617 = pd.read_csv('./data/preprocessing/laliga/laliga16-17.csv', usecols=old_season_cols)\n",
    "laliga_1718 = pd.read_csv('./data/preprocessing/laliga/laliga17-18.csv', usecols=old_season_cols)\n",
    "laliga_1819 = pd.read_csv('./data/preprocessing/laliga/laliga18-19.csv', usecols=[\"Div\",\"Date\", \"HomeTeam\", \"AwayTeam\",\"FTHG\",\"FTAG\",\"FTR\",\"HTHG\",\"HTAG\",\"HTR\",\"HS\",\"AS\",\"HST\",\"AST\",\"HF\",\"AF\",\"HC\",\"AC\",\"HY\",\"AY\",\"HR\",\"AR\", \n",
    "        \"B365H\",\"B365D\",\"B365A\",\"BWH\",\"BWD\",\"BWA\",\"IWH\",\"IWD\",\"IWA\",\"PSH\",\"PSD\",\"PSA\",\"WHH\",\"WHD\",\"WHA\",\"VCH\",\"VCD\",\"VCA\", \"BbAvH\", \"BbAvD\", \"BbAvA\",\n",
    "        \"BbAv>2.5\",\"BbAv<2.5\"])\n",
    "laliga_1920 = pd.read_csv('./data/preprocessing/bundesliga/bundes19-20.csv', usecols=laliga_new_season_cols)\n",
    "laliga_2021 = pd.read_csv('./data/preprocessing/bundesliga/bundes20-21.csv', usecols=laliga_new_season_cols)\n",
    "laliga_2122 = pd.read_csv('./data/preprocessing/bundesliga/bundes21-22.csv', usecols=laliga_new_season_cols)\n",
    "laliga_2223 = pd.read_csv('./data/preprocessing/bundesliga/bundes22-23.csv', usecols=laliga_new_season_cols)\n",
    "\n",
    "\n",
    "'''Serie A'''\n",
    "seriea_1011 = pd.read_csv('./data/preprocessing/seriea/seriea10-11.csv', usecols=[\"Div\",\"Date\", \"HomeTeam\", \"AwayTeam\",\"FTHG\",\"FTAG\",\"FTR\",\"HTHG\",\"HTAG\",\"HTR\",\"HS\",\"AS\",\"HST\",\"AST\",\"HF\",\"AF\",\"HC\",\"AC\",\"HY\",\"AY\",\"HR\",\"AR\", \n",
    "        \"B365H\",\"B365D\",\"B365A\",\"BWH\",\"BWD\",\"BWA\",\"IWH\",\"IWD\",\"IWA\",\"LBH\",\"LBD\",\"LBA\",\"WHH\",\"WHD\",\"WHA\",\"VCH\",\"VCD\",\"VCA\", \"BbAvH\", \"BbAvD\", \"BbAvA\",\n",
    "        \"BbAv>2.5\",\"BbAv<2.5\"])\n",
    "seriea_1112 = pd.read_csv('./data/preprocessing/seriea/seriea11-12.csv', usecols=[\"Div\",\"Date\", \"HomeTeam\", \"AwayTeam\",\"FTHG\",\"FTAG\",\"FTR\",\"HTHG\",\"HTAG\",\"HTR\",\"HS\",\"AS\",\"HST\",\"AST\",\"HF\",\"AF\",\"HC\",\"AC\",\"HY\",\"AY\",\"HR\",\"AR\", \n",
    "        \"B365H\",\"B365D\",\"B365A\",\"BWH\",\"BWD\",\"BWA\",\"IWH\",\"IWD\",\"IWA\",\"LBH\",\"LBD\",\"LBA\",\"WHH\",\"WHD\",\"WHA\",\"VCH\",\"VCD\",\"VCA\", \"BbAvH\", \"BbAvD\", \"BbAvA\",\n",
    "        \"BbAv>2.5\",\"BbAv<2.5\"])\n",
    "seriea_1213 = pd.read_csv('./data/preprocessing/seriea/seriea12-13.csv', usecols=[\"Div\",\"Date\", \"HomeTeam\", \"AwayTeam\",\"FTHG\",\"FTAG\",\"FTR\",\"HTHG\",\"HTAG\",\"HTR\",\"HS\",\"AS\",\"HST\",\"AST\",\"HF\",\"AF\",\"HC\",\"AC\",\"HY\",\"AY\",\"HR\",\"AR\", \n",
    "        \"B365H\",\"B365D\",\"B365A\",\"BWH\",\"BWD\",\"BWA\",\"IWH\",\"IWD\",\"IWA\",\"LBH\",\"LBD\",\"LBA\",\"WHH\",\"WHD\",\"WHA\",\"VCH\",\"VCD\",\"VCA\", \"BbAvH\", \"BbAvD\", \"BbAvA\",\n",
    "        \"BbAv>2.5\",\"BbAv<2.5\"])\n",
    "seriea_1314 = pd.read_csv('./data/preprocessing/seriea/seriea13-14.csv', usecols=[\"Div\",\"Date\", \"HomeTeam\", \"AwayTeam\",\"FTHG\",\"FTAG\",\"FTR\",\"HTHG\",\"HTAG\",\"HTR\",\"HS\",\"AS\",\"HST\",\"AST\",\"HF\",\"AF\",\"HC\",\"AC\",\"HY\",\"AY\",\"HR\",\"AR\", \n",
    "        \"B365H\",\"B365D\",\"B365A\",\"BWH\",\"BWD\",\"BWA\",\"IWH\",\"IWD\",\"IWA\",\"LBH\",\"LBD\",\"LBA\",\"WHH\",\"WHD\",\"WHA\",\"VCH\",\"VCD\",\"VCA\", \"BbAvH\", \"BbAvD\", \"BbAvA\",\n",
    "        \"BbAv>2.5\",\"BbAv<2.5\"])\n",
    "seriea_1415 = pd.read_csv('./data/preprocessing/seriea/seriea14-15.csv', usecols=[\"Div\",\"Date\", \"HomeTeam\", \"AwayTeam\",\"FTHG\",\"FTAG\",\"FTR\",\"HTHG\",\"HTAG\",\"HTR\",\"HS\",\"AS\",\"HST\",\"AST\",\"HF\",\"AF\",\"HC\",\"AC\",\"HY\",\"AY\",\"HR\",\"AR\", \n",
    "        \"B365H\",\"B365D\",\"B365A\",\"BWH\",\"BWD\",\"BWA\",\"IWH\",\"IWD\",\"IWA\",\"LBH\",\"LBD\",\"LBA\",\"WHH\",\"WHD\",\"WHA\",\"VCH\",\"VCD\",\"VCA\", \"BbAvH\", \"BbAvD\", \"BbAvA\",\n",
    "        \"BbAv>2.5\",\"BbAv<2.5\"])\n",
    "seriea_1516 = pd.read_csv('./data/preprocessing/seriea/seriea15-16.csv', usecols=old_season_cols)\n",
    "seriea_1617 = pd.read_csv('./data/preprocessing/seriea/seriea16-17.csv', usecols=old_season_cols)\n",
    "seriea_1718 = pd.read_csv('./data/preprocessing/seriea/seriea17-18.csv', usecols=old_season_cols)\n",
    "seriea_1819 = pd.read_csv('./data/preprocessing/seriea/seriea18-19.csv', usecols=[\"Div\",\"Date\", \"HomeTeam\", \"AwayTeam\",\"FTHG\",\"FTAG\",\"FTR\",\"HTHG\",\"HTAG\",\"HTR\",\"HS\",\"AS\",\"HST\",\"AST\",\"HF\",\"AF\",\"HC\",\"AC\",\"HY\",\"AY\",\"HR\",\"AR\", \n",
    "        \"B365H\",\"B365D\",\"B365A\",\"BWH\",\"BWD\",\"BWA\",\"IWH\",\"IWD\",\"IWA\",\"PSH\",\"PSD\",\"PSA\",\"WHH\",\"WHD\",\"WHA\",\"VCH\",\"VCD\",\"VCA\", \"BbAvH\", \"BbAvD\", \"BbAvA\",\n",
    "        \"BbAv>2.5\",\"BbAv<2.5\"])\n",
    "seriea_1920 = pd.read_csv('./data/preprocessing/seriea/seriea19-20.csv', usecols=seriea_new_season_cols)\n",
    "seriea_2021 = pd.read_csv('./data/preprocessing/seriea/seriea20-21.csv', usecols=seriea_new_season_cols)\n",
    "seriea_2122 = pd.read_csv('./data/preprocessing/seriea/seriea21-22.csv', usecols=seriea_new_season_cols)\n",
    "seriea_2223 = pd.read_csv('./data/preprocessing/seriea/seriea22-23.csv', usecols=seriea_new_season_cols)\n",
    "\n",
    "\n",
    "'''Premier League'''\n",
    "pl_1011 = pd.read_csv('./data/preprocessing/premierleague/premierleague10-11.csv', usecols=[\"Div\",\"Date\", \"HomeTeam\", \"AwayTeam\",\"FTHG\",\"FTAG\",\"FTR\",\"HTHG\",\"HTAG\",\"HTR\",\"HS\",\"AS\",\"HST\",\"AST\",\"HF\",\"AF\",\"HC\",\"AC\",\"HY\",\"AY\",\"HR\",\"AR\", \n",
    "        \"B365H\",\"B365D\",\"B365A\",\"BWH\",\"BWD\",\"BWA\",\"IWH\",\"IWD\",\"IWA\",\"LBH\",\"LBD\",\"LBA\",\"WHH\",\"WHD\",\"WHA\",\"VCH\",\"VCD\",\"VCA\", \"BbAvH\", \"BbAvD\", \"BbAvA\",\n",
    "        \"BbAv>2.5\",\"BbAv<2.5\"])\n",
    "pl_1112 = pd.read_csv('./data/preprocessing/premierleague/premierleague11-12.csv', usecols=[\"Div\",\"Date\", \"HomeTeam\", \"AwayTeam\",\"FTHG\",\"FTAG\",\"FTR\",\"HTHG\",\"HTAG\",\"HTR\",\"HS\",\"AS\",\"HST\",\"AST\",\"HF\",\"AF\",\"HC\",\"AC\",\"HY\",\"AY\",\"HR\",\"AR\", \n",
    "        \"B365H\",\"B365D\",\"B365A\",\"BWH\",\"BWD\",\"BWA\",\"IWH\",\"IWD\",\"IWA\",\"LBH\",\"LBD\",\"LBA\",\"WHH\",\"WHD\",\"WHA\",\"VCH\",\"VCD\",\"VCA\", \"BbAvH\", \"BbAvD\", \"BbAvA\",\n",
    "        \"BbAv>2.5\",\"BbAv<2.5\"])\n",
    "pl_1213 = pd.read_csv('./data/preprocessing/premierleague/premierleague12-13.csv', usecols=[\"Div\",\"Date\", \"HomeTeam\", \"AwayTeam\",\"FTHG\",\"FTAG\",\"FTR\",\"HTHG\",\"HTAG\",\"HTR\",\"HS\",\"AS\",\"HST\",\"AST\",\"HF\",\"AF\",\"HC\",\"AC\",\"HY\",\"AY\",\"HR\",\"AR\", \n",
    "        \"B365H\",\"B365D\",\"B365A\",\"BWH\",\"BWD\",\"BWA\",\"IWH\",\"IWD\",\"IWA\",\"LBH\",\"LBD\",\"LBA\",\"WHH\",\"WHD\",\"WHA\",\"VCH\",\"VCD\",\"VCA\", \"BbAvH\", \"BbAvD\", \"BbAvA\",\n",
    "        \"BbAv>2.5\",\"BbAv<2.5\"])\n",
    "pl_1314 = pd.read_csv('./data/preprocessing/premierleague/premierleague13-14.csv', usecols=[\"Div\",\"Date\", \"HomeTeam\", \"AwayTeam\",\"FTHG\",\"FTAG\",\"FTR\",\"HTHG\",\"HTAG\",\"HTR\",\"HS\",\"AS\",\"HST\",\"AST\",\"HF\",\"AF\",\"HC\",\"AC\",\"HY\",\"AY\",\"HR\",\"AR\", \n",
    "        \"B365H\",\"B365D\",\"B365A\",\"BWH\",\"BWD\",\"BWA\",\"IWH\",\"IWD\",\"IWA\",\"LBH\",\"LBD\",\"LBA\",\"WHH\",\"WHD\",\"WHA\",\"VCH\",\"VCD\",\"VCA\", \"BbAvH\", \"BbAvD\", \"BbAvA\",\n",
    "        \"BbAv>2.5\",\"BbAv<2.5\"])\n",
    "pl_1415 = pd.read_csv('./data/preprocessing/premierleague/premierleague14-15.csv', usecols=[\"Div\",\"Date\", \"HomeTeam\", \"AwayTeam\",\"FTHG\",\"FTAG\",\"FTR\",\"HTHG\",\"HTAG\",\"HTR\",\"HS\",\"AS\",\"HST\",\"AST\",\"HF\",\"AF\",\"HC\",\"AC\",\"HY\",\"AY\",\"HR\",\"AR\", \n",
    "        \"B365H\",\"B365D\",\"B365A\",\"BWH\",\"BWD\",\"BWA\",\"IWH\",\"IWD\",\"IWA\",\"LBH\",\"LBD\",\"LBA\",\"WHH\",\"WHD\",\"WHA\",\"VCH\",\"VCD\",\"VCA\", \"BbAvH\", \"BbAvD\", \"BbAvA\",\n",
    "        \"BbAv>2.5\",\"BbAv<2.5\"])\n",
    "pl_1516 = pd.read_csv('./data/preprocessing/premierleague/premierleague15-16.csv', usecols=old_season_cols)\n",
    "pl_1617 = pd.read_csv('./data/preprocessing/premierleague/premierleague16-17.csv', usecols=old_season_cols)\n",
    "pl_1718 = pd.read_csv('./data/preprocessing/premierleague/premierleague17-18.csv', usecols=old_season_cols)\n",
    "pl_1819 = pd.read_csv('./data/preprocessing/premierleague/premierleague18-19.csv', usecols=[\"Div\",\"Date\", \"HomeTeam\", \"AwayTeam\",\"FTHG\",\"FTAG\",\"FTR\",\"HTHG\",\"HTAG\",\"HTR\",\"HS\",\"AS\",\"HST\",\"AST\",\"HF\",\"AF\",\"HC\",\"AC\",\"HY\",\"AY\",\"HR\",\"AR\", \n",
    "        \"B365H\",\"B365D\",\"B365A\",\"BWH\",\"BWD\",\"BWA\",\"IWH\",\"IWD\",\"IWA\",\"PSH\",\"PSD\",\"PSA\",\"WHH\",\"WHD\",\"WHA\",\"VCH\",\"VCD\",\"VCA\", \"BbAvH\", \"BbAvD\", \"BbAvA\",\n",
    "        \"BbAv>2.5\",\"BbAv<2.5\"])\n",
    "pl_1920 = pd.read_csv('./data/preprocessing/premierleague/premierleague19-20.csv', usecols=pl_new_season_cols)\n",
    "pl_2021 = pd.read_csv('./data/preprocessing/premierleague/premierleague20-21.csv', usecols=pl_new_season_cols)\n",
    "pl_2122 = pd.read_csv('./data/preprocessing/premierleague/premierleague21-22.csv', usecols=pl_new_season_cols)\n",
    "pl_2223 = pd.read_csv('./data/preprocessing/premierleague/premierleague22-23.csv', usecols=pl_new_season_cols)"
   ]
  },
  {
   "cell_type": "markdown",
   "metadata": {},
   "source": [
    "Variables sampling, data transforming etc."
   ]
  },
  {
   "cell_type": "code",
   "execution_count": 4,
   "metadata": {},
   "outputs": [],
   "source": [
    "'''Bundesliga matches statistics datasets preprocessing'''\n",
    "\n",
    "df_1 = [bundes_1011, bundes_1112, bundes_1213, bundes_1314, bundes_1415]\n",
    "\n",
    "columnsH_1 = ['B365H', 'BWH', 'IWH', 'LBH', 'WHH', 'VCH', 'BbAvH']\n",
    "columnsA_1 = ['B365A', 'BWA', 'IWA', 'LBA', 'WHA', 'VCA', 'BbAvA']\n",
    "columnsD_1 = ['B365D', 'BWD', 'IWD', 'LBD', 'WHD', 'VCD', 'BbAvD']\n",
    "\n",
    "for i, ds in enumerate(df_1):\n",
    "    df_1[i]['AvgH'] = df_1[i][columnsH_1].mean(axis=1)\n",
    "    df_1[i]['AvgA'] = df_1[i][columnsA_1].mean(axis=1)\n",
    "    df_1[i]['AvgD'] = df_1[i][columnsD_1].mean(axis=1)\n",
    "    df_1[i].rename(columns={\"BbAv>2.5\": \"Avg>2.5\"},inplace = True)\n",
    "    df_1[i].rename(columns={\"BbAv<2.5\": \"Avg<2.5\"},inplace = True)\n",
    "    df_1[i].drop(columnsH_1, inplace=True, axis=1)\n",
    "    df_1[i].drop(columnsA_1, inplace=True, axis=1)\n",
    "    df_1[i].drop(columnsD_1, inplace=True, axis=1)\n",
    "\n",
    "\n",
    "datasets = [bundes_1516, bundes_1617, bundes_1718]\n",
    "\n",
    "columnsH = ['B365H', 'BWH', 'IWH', 'LBH', 'PSH', 'WHH', 'VCH', 'BbAvH']\n",
    "columnsA = ['B365A', 'BWA', 'IWA', 'LBA', 'PSA', 'WHA', 'VCA', 'BbAvA']\n",
    "columnsD = ['B365D', 'BWD', 'IWD', 'LBD', 'PSD', 'WHD', 'VCD', 'BbAvD']\n",
    "\n",
    "for i, ds in enumerate(datasets):\n",
    "    datasets[i]['AvgH'] = datasets[i][columnsH].mean(axis=1)\n",
    "    datasets[i]['AvgA'] = datasets[i][columnsA].mean(axis=1)\n",
    "    datasets[i]['AvgD'] = datasets[i][columnsD].mean(axis=1)\n",
    "    datasets[i].rename(columns={\"BbAv>2.5\": \"Avg>2.5\"},inplace = True)\n",
    "    datasets[i].rename(columns={\"BbAv<2.5\": \"Avg<2.5\"},inplace = True)\n",
    "    datasets[i].drop(columnsH, inplace=True, axis=1)\n",
    "    datasets[i].drop(columnsA, inplace=True, axis=1)\n",
    "    datasets[i].drop(columnsD, inplace=True, axis=1)\n",
    "\n",
    "bundes_1819['AvgH'] = bundes_1819[['B365H', 'BWH', 'IWH', 'PSH', 'WHH', 'VCH', 'BbAvH']].mean(axis=1)\n",
    "bundes_1819['AvgA'] = bundes_1819[['B365A', 'BWA', 'IWA', 'PSA', 'WHA', 'VCA', 'BbAvA']].mean(axis=1)\n",
    "bundes_1819['AvgD'] = bundes_1819[['B365D', 'BWD', 'IWD', 'PSD', 'WHD', 'VCD', 'BbAvD']].mean(axis=1)\n",
    "bundes_1819.drop(['B365H', 'BWH', 'IWH', 'PSH', 'WHH', 'VCH', 'BbAvH'], inplace=True, axis=1)\n",
    "bundes_1819.drop(['B365A', 'BWA', 'IWA', 'PSA', 'WHA', 'VCA', 'BbAvA'], inplace=True, axis=1)\n",
    "bundes_1819.drop(['B365D', 'BWD', 'IWD', 'PSD', 'WHD', 'VCD', 'BbAvD'], inplace=True, axis=1)\n",
    "bundes_1819.rename(columns={\"BbAv>2.5\": \"Avg>2.5\"},inplace = True)\n",
    "bundes_1819.rename(columns={\"BbAv<2.5\": \"Avg<2.5\"},inplace = True)\n",
    "\n",
    "\n",
    "datasets = [bundes_1920, bundes_2021, bundes_2122, bundes_2223]\n",
    "\n",
    "for i, ds in enumerate(datasets):\n",
    "    datasets[i].rename(columns={\"AvgC>2.5\": \"Avg>2.5\"},inplace = True)\n",
    "    datasets[i].rename(columns={\"AvgC<2.5\": \"Avg<2.5\"},inplace = True)"
   ]
  },
  {
   "cell_type": "code",
   "execution_count": 5,
   "metadata": {},
   "outputs": [],
   "source": [
    "'''LaLiga matches statistics datasets preprocessing'''\n",
    "\n",
    "df_1 = [laliga_1011, laliga_1112, laliga_1213, laliga_1314, laliga_1415]\n",
    "\n",
    "columnsH_1 = ['B365H', 'BWH', 'IWH', 'LBH', 'WHH', 'VCH', 'BbAvH']\n",
    "columnsA_1 = ['B365A', 'BWA', 'IWA', 'LBA', 'WHA', 'VCA', 'BbAvA']\n",
    "columnsD_1 = ['B365D', 'BWD', 'IWD', 'LBD', 'WHD', 'VCD', 'BbAvD']\n",
    "\n",
    "for i, ds in enumerate(df_1):\n",
    "    df_1[i]['AvgH'] = df_1[i][columnsH_1].mean(axis=1)\n",
    "    df_1[i]['AvgA'] = df_1[i][columnsA_1].mean(axis=1)\n",
    "    df_1[i]['AvgD'] = df_1[i][columnsD_1].mean(axis=1)\n",
    "    df_1[i].rename(columns={\"BbAv>2.5\": \"Avg>2.5\"},inplace = True)\n",
    "    df_1[i].rename(columns={\"BbAv<2.5\": \"Avg<2.5\"},inplace = True)\n",
    "    df_1[i].drop(columnsH_1, inplace=True, axis=1)\n",
    "    df_1[i].drop(columnsA_1, inplace=True, axis=1)\n",
    "    df_1[i].drop(columnsD_1, inplace=True, axis=1)\n",
    "\n",
    "datasets = [laliga_1516, laliga_1617, laliga_1718]\n",
    "\n",
    "columnsH = ['B365H', 'BWH', 'IWH', 'LBH', 'PSH', 'WHH', 'VCH', 'BbAvH']\n",
    "columnsA = ['B365A', 'BWA', 'IWA', 'LBA', 'PSA', 'WHA', 'VCA', 'BbAvA']\n",
    "columnsD = ['B365D', 'BWD', 'IWD', 'LBD', 'PSD', 'WHD', 'VCD', 'BbAvD']\n",
    "\n",
    "for i, ds in enumerate(datasets):\n",
    "    datasets[i]['AvgH'] = datasets[i][columnsH].mean(axis=1)\n",
    "    datasets[i]['AvgA'] = datasets[i][columnsA].mean(axis=1)\n",
    "    datasets[i]['AvgD'] = datasets[i][columnsD].mean(axis=1)\n",
    "    datasets[i].rename(columns={\"BbAv>2.5\": \"Avg>2.5\"},inplace = True)\n",
    "    datasets[i].rename(columns={\"BbAv<2.5\": \"Avg<2.5\"},inplace = True)\n",
    "    datasets[i].drop(columnsH, inplace=True, axis=1)\n",
    "    datasets[i].drop(columnsA, inplace=True, axis=1)\n",
    "    datasets[i].drop(columnsD, inplace=True, axis=1)\n",
    "\n",
    "laliga_1819['AvgH'] = laliga_1819[['B365H', 'BWH', 'IWH', 'PSH', 'WHH', 'VCH', 'BbAvH']].mean(axis=1)\n",
    "laliga_1819['AvgA'] = laliga_1819[['B365A', 'BWA', 'IWA', 'PSA', 'WHA', 'VCA', 'BbAvA']].mean(axis=1)\n",
    "laliga_1819['AvgD'] = laliga_1819[['B365D', 'BWD', 'IWD', 'PSD', 'WHD', 'VCD', 'BbAvD']].mean(axis=1)\n",
    "laliga_1819.drop(['B365H', 'BWH', 'IWH', 'PSH', 'WHH', 'VCH', 'BbAvH'], inplace=True, axis=1)\n",
    "laliga_1819.drop(['B365A', 'BWA', 'IWA', 'PSA', 'WHA', 'VCA', 'BbAvA'], inplace=True, axis=1)\n",
    "laliga_1819.drop(['B365D', 'BWD', 'IWD', 'PSD', 'WHD', 'VCD', 'BbAvD'], inplace=True, axis=1)\n",
    "laliga_1819.rename(columns={\"BbAv>2.5\": \"Avg>2.5\"},inplace = True)\n",
    "laliga_1819.rename(columns={\"BbAv<2.5\": \"Avg<2.5\"},inplace = True)"
   ]
  },
  {
   "cell_type": "code",
   "execution_count": 6,
   "metadata": {},
   "outputs": [],
   "source": [
    "'''SerieA matches statistics datasets preprocessing'''\n",
    "\n",
    "df_1 = [seriea_1011, seriea_1112, seriea_1213, seriea_1314, seriea_1415]\n",
    "\n",
    "columnsH_1 = ['B365H', 'BWH', 'IWH', 'LBH', 'WHH', 'VCH', 'BbAvH']\n",
    "columnsA_1 = ['B365A', 'BWA', 'IWA', 'LBA', 'WHA', 'VCA', 'BbAvA']\n",
    "columnsD_1 = ['B365D', 'BWD', 'IWD', 'LBD', 'WHD', 'VCD', 'BbAvD']\n",
    "\n",
    "for i, ds in enumerate(df_1):\n",
    "    df_1[i]['AvgH'] = df_1[i][columnsH_1].mean(axis=1)\n",
    "    df_1[i]['AvgA'] = df_1[i][columnsA_1].mean(axis=1)\n",
    "    df_1[i]['AvgD'] = df_1[i][columnsD_1].mean(axis=1)\n",
    "    df_1[i].rename(columns={\"BbAv>2.5\": \"Avg>2.5\"},inplace = True)\n",
    "    df_1[i].rename(columns={\"BbAv<2.5\": \"Avg<2.5\"},inplace = True)\n",
    "    df_1[i].drop(columnsH_1, inplace=True, axis=1)\n",
    "    df_1[i].drop(columnsA_1, inplace=True, axis=1)\n",
    "    df_1[i].drop(columnsD_1, inplace=True, axis=1)\n",
    "\n",
    "datasets = [seriea_1516, seriea_1617, seriea_1718]\n",
    "\n",
    "columnsH = ['B365H', 'BWH', 'IWH', 'LBH', 'PSH', 'WHH', 'VCH', 'BbAvH']\n",
    "columnsA = ['B365A', 'BWA', 'IWA', 'LBA', 'PSA', 'WHA', 'VCA', 'BbAvA']\n",
    "columnsD = ['B365D', 'BWD', 'IWD', 'LBD', 'PSD', 'WHD', 'VCD', 'BbAvD']\n",
    "\n",
    "for i, ds in enumerate(datasets):\n",
    "    datasets[i]['AvgH'] = datasets[i][columnsH].mean(axis=1)\n",
    "    datasets[i]['AvgA'] = datasets[i][columnsA].mean(axis=1)\n",
    "    datasets[i]['AvgD'] = datasets[i][columnsD].mean(axis=1)\n",
    "    datasets[i].rename(columns={\"BbAv>2.5\": \"Avg>2.5\"},inplace = True)\n",
    "    datasets[i].rename(columns={\"BbAv<2.5\": \"Avg<2.5\"},inplace = True)\n",
    "    datasets[i].drop(columnsH, inplace=True, axis=1)\n",
    "    datasets[i].drop(columnsA, inplace=True, axis=1)\n",
    "    datasets[i].drop(columnsD, inplace=True, axis=1)\n",
    "\n",
    "seriea_1819['AvgH'] = seriea_1819[['B365H', 'BWH', 'IWH', 'PSH', 'WHH', 'VCH', 'BbAvH']].mean(axis=1)\n",
    "seriea_1819['AvgA'] = seriea_1819[['B365A', 'BWA', 'IWA', 'PSA', 'WHA', 'VCA', 'BbAvA']].mean(axis=1)\n",
    "seriea_1819['AvgD'] = seriea_1819[['B365D', 'BWD', 'IWD', 'PSD', 'WHD', 'VCD', 'BbAvD']].mean(axis=1)\n",
    "seriea_1819.drop(['B365H', 'BWH', 'IWH', 'PSH', 'WHH', 'VCH', 'BbAvH'], inplace=True, axis=1)\n",
    "seriea_1819.drop(['B365A', 'BWA', 'IWA', 'PSA', 'WHA', 'VCA', 'BbAvA'], inplace=True, axis=1)\n",
    "seriea_1819.drop(['B365D', 'BWD', 'IWD', 'PSD', 'WHD', 'VCD', 'BbAvD'], inplace=True, axis=1)\n",
    "seriea_1819.rename(columns={\"BbAv>2.5\": \"Avg>2.5\"},inplace = True)\n",
    "seriea_1819.rename(columns={\"BbAv<2.5\": \"Avg<2.5\"},inplace = True)"
   ]
  },
  {
   "cell_type": "code",
   "execution_count": 7,
   "metadata": {},
   "outputs": [],
   "source": [
    "'''Premier League matches statistics datasets preprocessing'''\n",
    "\n",
    "df_1 = [pl_1011, pl_1112, pl_1213, pl_1314, pl_1415]\n",
    "\n",
    "columnsH_1 = ['B365H', 'BWH', 'IWH', 'LBH', 'WHH', 'VCH', 'BbAvH']\n",
    "columnsA_1 = ['B365A', 'BWA', 'IWA', 'LBA', 'WHA', 'VCA', 'BbAvA']\n",
    "columnsD_1 = ['B365D', 'BWD', 'IWD', 'LBD', 'WHD', 'VCD', 'BbAvD']\n",
    "\n",
    "for i, ds in enumerate(df_1):\n",
    "    df_1[i]['AvgH'] = df_1[i][columnsH_1].mean(axis=1)\n",
    "    df_1[i]['AvgA'] = df_1[i][columnsA_1].mean(axis=1)\n",
    "    df_1[i]['AvgD'] = df_1[i][columnsD_1].mean(axis=1)\n",
    "    df_1[i].rename(columns={\"BbAv>2.5\": \"Avg>2.5\"},inplace = True)\n",
    "    df_1[i].rename(columns={\"BbAv<2.5\": \"Avg<2.5\"},inplace = True)\n",
    "    df_1[i].drop(columnsH_1, inplace=True, axis=1)\n",
    "    df_1[i].drop(columnsA_1, inplace=True, axis=1)\n",
    "    df_1[i].drop(columnsD_1, inplace=True, axis=1)\n",
    "    \n",
    "datasets = [pl_1516, pl_1617, pl_1718]\n",
    "\n",
    "columnsH = ['B365H', 'BWH', 'IWH', 'LBH', 'PSH', 'WHH', 'VCH', 'BbAvH']\n",
    "columnsA = ['B365A', 'BWA', 'IWA', 'LBA', 'PSA', 'WHA', 'VCA', 'BbAvA']\n",
    "columnsD = ['B365D', 'BWD', 'IWD', 'LBD', 'PSD', 'WHD', 'VCD', 'BbAvD']\n",
    "\n",
    "for i, ds in enumerate(datasets):\n",
    "    datasets[i]['AvgH'] = datasets[i][columnsH].mean(axis=1)\n",
    "    datasets[i]['AvgA'] = datasets[i][columnsA].mean(axis=1)\n",
    "    datasets[i]['AvgD'] = datasets[i][columnsD].mean(axis=1)\n",
    "    datasets[i].rename(columns={\"BbAv>2.5\": \"Avg>2.5\"},inplace = True)\n",
    "    datasets[i].rename(columns={\"BbAv<2.5\": \"Avg<2.5\"},inplace = True)\n",
    "    datasets[i].drop(columnsH, inplace=True, axis=1)\n",
    "    datasets[i].drop(columnsA, inplace=True, axis=1)\n",
    "    datasets[i].drop(columnsD, inplace=True, axis=1)\n",
    "\n",
    "pl_1819['AvgH'] = pl_1819[['B365H', 'BWH', 'IWH', 'PSH', 'WHH', 'VCH', 'BbAvH']].mean(axis=1)\n",
    "pl_1819['AvgA'] = pl_1819[['B365A', 'BWA', 'IWA', 'PSA', 'WHA', 'VCA', 'BbAvA']].mean(axis=1)\n",
    "pl_1819['AvgD'] = pl_1819[['B365D', 'BWD', 'IWD', 'PSD', 'WHD', 'VCD', 'BbAvD']].mean(axis=1)\n",
    "pl_1819.drop(['B365H', 'BWH', 'IWH', 'PSH', 'WHH', 'VCH', 'BbAvH'], inplace=True, axis=1)\n",
    "pl_1819.drop(['B365A', 'BWA', 'IWA', 'PSA', 'WHA', 'VCA', 'BbAvA'], inplace=True, axis=1)\n",
    "pl_1819.drop(['B365D', 'BWD', 'IWD', 'PSD', 'WHD', 'VCD', 'BbAvD'], inplace=True, axis=1)\n",
    "pl_1819.rename(columns={\"BbAv>2.5\": \"Avg>2.5\"},inplace = True)\n",
    "pl_1819.rename(columns={\"BbAv<2.5\": \"Avg<2.5\"},inplace = True)"
   ]
  },
  {
   "cell_type": "code",
   "execution_count": 8,
   "metadata": {},
   "outputs": [
    {
     "data": {
      "text/html": [
       "<div>\n",
       "<style scoped>\n",
       "    .dataframe tbody tr th:only-of-type {\n",
       "        vertical-align: middle;\n",
       "    }\n",
       "\n",
       "    .dataframe tbody tr th {\n",
       "        vertical-align: top;\n",
       "    }\n",
       "\n",
       "    .dataframe thead th {\n",
       "        text-align: right;\n",
       "    }\n",
       "</style>\n",
       "<table border=\"1\" class=\"dataframe\">\n",
       "  <thead>\n",
       "    <tr style=\"text-align: right;\">\n",
       "      <th></th>\n",
       "      <th>League</th>\n",
       "      <th>Number of games</th>\n",
       "    </tr>\n",
       "  </thead>\n",
       "  <tbody>\n",
       "    <tr>\n",
       "      <th>0</th>\n",
       "      <td>Premier League</td>\n",
       "      <td>4847</td>\n",
       "    </tr>\n",
       "    <tr>\n",
       "      <th>1</th>\n",
       "      <td>Bundesliga</td>\n",
       "      <td>3906</td>\n",
       "    </tr>\n",
       "    <tr>\n",
       "      <th>2</th>\n",
       "      <td>LaLiga</td>\n",
       "      <td>4572</td>\n",
       "    </tr>\n",
       "    <tr>\n",
       "      <th>3</th>\n",
       "      <td>Serie A</td>\n",
       "      <td>4845</td>\n",
       "    </tr>\n",
       "  </tbody>\n",
       "</table>\n",
       "</div>"
      ],
      "text/plain": [
       "           League  Number of games\n",
       "0  Premier League             4847\n",
       "1      Bundesliga             3906\n",
       "2          LaLiga             4572\n",
       "3         Serie A             4845"
      ]
     },
     "execution_count": 8,
     "metadata": {},
     "output_type": "execute_result"
    }
   ],
   "source": [
    "pl_df = pd.concat([pl_1011, pl_1112, pl_1213, pl_1314, pl_1415, pl_1516, pl_1617,pl_1718, pl_1819, pl_1920, pl_2021, pl_2122, pl_2223])\n",
    "bundes_df = pd.concat([bundes_1011, bundes_1112, bundes_1213, bundes_1314, bundes_1415, bundes_1516, bundes_1617,bundes_1718, bundes_1819, bundes_1920, bundes_2021, bundes_2122, bundes_2223])\n",
    "laliga_df = pd.concat([laliga_1011, laliga_1112, laliga_1213, laliga_1314, laliga_1415, laliga_1516, laliga_1617, laliga_1718, laliga_1819, laliga_1920, laliga_2021, laliga_2122, laliga_2223])\n",
    "seriea_df = pd.concat([seriea_1011, seriea_1112, seriea_1213, seriea_1314, seriea_1415, seriea_1516, seriea_1617, seriea_1718, seriea_1819, seriea_1920, seriea_2021, seriea_2122, seriea_2223])\n",
    "\n",
    "data = [['Premier League', len(pl_df.index)], ['Bundesliga', len(bundes_df.index)], ['LaLiga', len(laliga_df.index)], ['Serie A', len(seriea_df. index)]]\n",
    "df = pd.DataFrame(data, columns=['League','Number of games'])\n",
    "  \n",
    "df"
   ]
  },
  {
   "cell_type": "code",
   "execution_count": 9,
   "metadata": {},
   "outputs": [],
   "source": [
    "all_seasons = pd.concat([pl_df,bundes_df,laliga_df,seriea_df])"
   ]
  },
  {
   "cell_type": "code",
   "execution_count": 10,
   "metadata": {},
   "outputs": [
    {
     "data": {
      "text/html": [
       "<div>\n",
       "<style scoped>\n",
       "    .dataframe tbody tr th:only-of-type {\n",
       "        vertical-align: middle;\n",
       "    }\n",
       "\n",
       "    .dataframe tbody tr th {\n",
       "        vertical-align: top;\n",
       "    }\n",
       "\n",
       "    .dataframe thead th {\n",
       "        text-align: right;\n",
       "    }\n",
       "</style>\n",
       "<table border=\"1\" class=\"dataframe\">\n",
       "  <thead>\n",
       "    <tr style=\"text-align: right;\">\n",
       "      <th></th>\n",
       "      <th>Div</th>\n",
       "      <th>Date</th>\n",
       "      <th>HomeTeam</th>\n",
       "      <th>AwayTeam</th>\n",
       "      <th>FTHG</th>\n",
       "      <th>FTAG</th>\n",
       "      <th>FTR</th>\n",
       "      <th>HTHG</th>\n",
       "      <th>HTAG</th>\n",
       "      <th>HTR</th>\n",
       "      <th>...</th>\n",
       "      <th>AC</th>\n",
       "      <th>HY</th>\n",
       "      <th>AY</th>\n",
       "      <th>HR</th>\n",
       "      <th>AR</th>\n",
       "      <th>Avg&gt;2.5</th>\n",
       "      <th>Avg&lt;2.5</th>\n",
       "      <th>AvgH</th>\n",
       "      <th>AvgA</th>\n",
       "      <th>AvgD</th>\n",
       "    </tr>\n",
       "  </thead>\n",
       "  <tbody>\n",
       "    <tr>\n",
       "      <th>0</th>\n",
       "      <td>E0</td>\n",
       "      <td>14/08/10</td>\n",
       "      <td>Aston Villa</td>\n",
       "      <td>West Ham</td>\n",
       "      <td>3.0</td>\n",
       "      <td>0.0</td>\n",
       "      <td>H</td>\n",
       "      <td>2.0</td>\n",
       "      <td>0.0</td>\n",
       "      <td>H</td>\n",
       "      <td>...</td>\n",
       "      <td>7.0</td>\n",
       "      <td>1.0</td>\n",
       "      <td>2.0</td>\n",
       "      <td>0.0</td>\n",
       "      <td>0.0</td>\n",
       "      <td>2.01</td>\n",
       "      <td>1.75</td>\n",
       "      <td>1.907143</td>\n",
       "      <td>4.141429</td>\n",
       "      <td>3.328571</td>\n",
       "    </tr>\n",
       "    <tr>\n",
       "      <th>1</th>\n",
       "      <td>E0</td>\n",
       "      <td>14/08/10</td>\n",
       "      <td>Blackburn</td>\n",
       "      <td>Everton</td>\n",
       "      <td>1.0</td>\n",
       "      <td>0.0</td>\n",
       "      <td>H</td>\n",
       "      <td>1.0</td>\n",
       "      <td>0.0</td>\n",
       "      <td>H</td>\n",
       "      <td>...</td>\n",
       "      <td>3.0</td>\n",
       "      <td>2.0</td>\n",
       "      <td>1.0</td>\n",
       "      <td>0.0</td>\n",
       "      <td>0.0</td>\n",
       "      <td>2.08</td>\n",
       "      <td>1.70</td>\n",
       "      <td>2.840000</td>\n",
       "      <td>2.467143</td>\n",
       "      <td>3.250000</td>\n",
       "    </tr>\n",
       "    <tr>\n",
       "      <th>2</th>\n",
       "      <td>E0</td>\n",
       "      <td>14/08/10</td>\n",
       "      <td>Bolton</td>\n",
       "      <td>Fulham</td>\n",
       "      <td>0.0</td>\n",
       "      <td>0.0</td>\n",
       "      <td>D</td>\n",
       "      <td>0.0</td>\n",
       "      <td>0.0</td>\n",
       "      <td>D</td>\n",
       "      <td>...</td>\n",
       "      <td>8.0</td>\n",
       "      <td>1.0</td>\n",
       "      <td>3.0</td>\n",
       "      <td>0.0</td>\n",
       "      <td>0.0</td>\n",
       "      <td>2.09</td>\n",
       "      <td>1.69</td>\n",
       "      <td>2.192857</td>\n",
       "      <td>3.295714</td>\n",
       "      <td>3.258571</td>\n",
       "    </tr>\n",
       "    <tr>\n",
       "      <th>3</th>\n",
       "      <td>E0</td>\n",
       "      <td>14/08/10</td>\n",
       "      <td>Chelsea</td>\n",
       "      <td>West Brom</td>\n",
       "      <td>6.0</td>\n",
       "      <td>0.0</td>\n",
       "      <td>H</td>\n",
       "      <td>2.0</td>\n",
       "      <td>0.0</td>\n",
       "      <td>H</td>\n",
       "      <td>...</td>\n",
       "      <td>1.0</td>\n",
       "      <td>1.0</td>\n",
       "      <td>0.0</td>\n",
       "      <td>0.0</td>\n",
       "      <td>0.0</td>\n",
       "      <td>1.49</td>\n",
       "      <td>2.49</td>\n",
       "      <td>1.158571</td>\n",
       "      <td>17.352857</td>\n",
       "      <td>6.907143</td>\n",
       "    </tr>\n",
       "    <tr>\n",
       "      <th>4</th>\n",
       "      <td>E0</td>\n",
       "      <td>14/08/10</td>\n",
       "      <td>Sunderland</td>\n",
       "      <td>Birmingham</td>\n",
       "      <td>2.0</td>\n",
       "      <td>2.0</td>\n",
       "      <td>D</td>\n",
       "      <td>1.0</td>\n",
       "      <td>0.0</td>\n",
       "      <td>H</td>\n",
       "      <td>...</td>\n",
       "      <td>6.0</td>\n",
       "      <td>3.0</td>\n",
       "      <td>3.0</td>\n",
       "      <td>1.0</td>\n",
       "      <td>0.0</td>\n",
       "      <td>2.16</td>\n",
       "      <td>1.65</td>\n",
       "      <td>2.140000</td>\n",
       "      <td>3.427143</td>\n",
       "      <td>3.242857</td>\n",
       "    </tr>\n",
       "  </tbody>\n",
       "</table>\n",
       "<p>5 rows × 27 columns</p>\n",
       "</div>"
      ],
      "text/plain": [
       "  Div      Date     HomeTeam    AwayTeam  FTHG  FTAG FTR  HTHG  HTAG HTR  ...  \\\n",
       "0  E0  14/08/10  Aston Villa    West Ham   3.0   0.0   H   2.0   0.0   H  ...   \n",
       "1  E0  14/08/10    Blackburn     Everton   1.0   0.0   H   1.0   0.0   H  ...   \n",
       "2  E0  14/08/10       Bolton      Fulham   0.0   0.0   D   0.0   0.0   D  ...   \n",
       "3  E0  14/08/10      Chelsea   West Brom   6.0   0.0   H   2.0   0.0   H  ...   \n",
       "4  E0  14/08/10   Sunderland  Birmingham   2.0   2.0   D   1.0   0.0   H  ...   \n",
       "\n",
       "    AC   HY   AY   HR   AR  Avg>2.5  Avg<2.5      AvgH       AvgA      AvgD  \n",
       "0  7.0  1.0  2.0  0.0  0.0     2.01     1.75  1.907143   4.141429  3.328571  \n",
       "1  3.0  2.0  1.0  0.0  0.0     2.08     1.70  2.840000   2.467143  3.250000  \n",
       "2  8.0  1.0  3.0  0.0  0.0     2.09     1.69  2.192857   3.295714  3.258571  \n",
       "3  1.0  1.0  0.0  0.0  0.0     1.49     2.49  1.158571  17.352857  6.907143  \n",
       "4  6.0  3.0  3.0  1.0  0.0     2.16     1.65  2.140000   3.427143  3.242857  \n",
       "\n",
       "[5 rows x 27 columns]"
      ]
     },
     "execution_count": 10,
     "metadata": {},
     "output_type": "execute_result"
    }
   ],
   "source": [
    "all_seasons.head()"
   ]
  },
  {
   "cell_type": "markdown",
   "metadata": {},
   "source": [
    "Expanding dataset with new variables"
   ]
  },
  {
   "cell_type": "code",
   "execution_count": 11,
   "metadata": {},
   "outputs": [],
   "source": [
    "all_seasons['TSRH'] = all_seasons['HST']/all_seasons['HS']\n",
    "all_seasons['TSRA'] = all_seasons['AST']/all_seasons['AS']"
   ]
  },
  {
   "cell_type": "code",
   "execution_count": 12,
   "metadata": {},
   "outputs": [
    {
     "name": "stdout",
     "output_type": "stream",
     "text": [
      "<class 'pandas.core.frame.DataFrame'>\n",
      "Int64Index: 18170 entries, 0 to 279\n",
      "Data columns (total 29 columns):\n",
      " #   Column    Non-Null Count  Dtype  \n",
      "---  ------    --------------  -----  \n",
      " 0   Div       18164 non-null  object \n",
      " 1   Date      18164 non-null  object \n",
      " 2   HomeTeam  18164 non-null  object \n",
      " 3   AwayTeam  18164 non-null  object \n",
      " 4   FTHG      18164 non-null  float64\n",
      " 5   FTAG      18164 non-null  float64\n",
      " 6   FTR       18164 non-null  object \n",
      " 7   HTHG      18162 non-null  float64\n",
      " 8   HTAG      18162 non-null  float64\n",
      " 9   HTR       18162 non-null  object \n",
      " 10  HS        18163 non-null  float64\n",
      " 11  AS        18163 non-null  float64\n",
      " 12  HST       18163 non-null  float64\n",
      " 13  AST       18163 non-null  float64\n",
      " 14  HF        18163 non-null  float64\n",
      " 15  AF        18163 non-null  float64\n",
      " 16  HC        18163 non-null  float64\n",
      " 17  AC        18163 non-null  float64\n",
      " 18  HY        18162 non-null  float64\n",
      " 19  AY        18163 non-null  float64\n",
      " 20  HR        18163 non-null  float64\n",
      " 21  AR        18163 non-null  float64\n",
      " 22  Avg>2.5   18162 non-null  float64\n",
      " 23  Avg<2.5   18162 non-null  float64\n",
      " 24  AvgH      18163 non-null  float64\n",
      " 25  AvgA      18163 non-null  float64\n",
      " 26  AvgD      18163 non-null  float64\n",
      " 27  TSRH      18162 non-null  float64\n",
      " 28  TSRA      18154 non-null  float64\n",
      "dtypes: float64(23), object(6)\n",
      "memory usage: 4.2+ MB\n"
     ]
    }
   ],
   "source": [
    "all_seasons.info()"
   ]
  },
  {
   "cell_type": "markdown",
   "metadata": {},
   "source": [
    "Missing Data analysis"
   ]
  },
  {
   "cell_type": "code",
   "execution_count": 13,
   "metadata": {},
   "outputs": [
    {
     "data": {
      "text/plain": [
       "True"
      ]
     },
     "execution_count": 13,
     "metadata": {},
     "output_type": "execute_result"
    }
   ],
   "source": [
    "all_seasons.isnull().values.any()"
   ]
  },
  {
   "cell_type": "code",
   "execution_count": 14,
   "metadata": {},
   "outputs": [],
   "source": [
    "all_seasons.replace([np.inf, -np.inf], np.nan, inplace=True)"
   ]
  },
  {
   "cell_type": "code",
   "execution_count": 15,
   "metadata": {},
   "outputs": [],
   "source": [
    "all_seasons = all_seasons.dropna()"
   ]
  },
  {
   "cell_type": "code",
   "execution_count": 16,
   "metadata": {},
   "outputs": [
    {
     "data": {
      "text/plain": [
       "False"
      ]
     },
     "execution_count": 16,
     "metadata": {},
     "output_type": "execute_result"
    }
   ],
   "source": [
    "all_seasons.isnull().values.any()"
   ]
  },
  {
   "cell_type": "code",
   "execution_count": 17,
   "metadata": {},
   "outputs": [
    {
     "data": {
      "text/html": [
       "<div>\n",
       "<style scoped>\n",
       "    .dataframe tbody tr th:only-of-type {\n",
       "        vertical-align: middle;\n",
       "    }\n",
       "\n",
       "    .dataframe tbody tr th {\n",
       "        vertical-align: top;\n",
       "    }\n",
       "\n",
       "    .dataframe thead th {\n",
       "        text-align: right;\n",
       "    }\n",
       "</style>\n",
       "<table border=\"1\" class=\"dataframe\">\n",
       "  <thead>\n",
       "    <tr style=\"text-align: right;\">\n",
       "      <th></th>\n",
       "      <th>Div</th>\n",
       "      <th>Date</th>\n",
       "      <th>HomeTeam</th>\n",
       "      <th>AwayTeam</th>\n",
       "      <th>FTHG</th>\n",
       "      <th>FTAG</th>\n",
       "      <th>FTR</th>\n",
       "      <th>HTHG</th>\n",
       "      <th>HTAG</th>\n",
       "      <th>HTR</th>\n",
       "      <th>...</th>\n",
       "      <th>AY</th>\n",
       "      <th>HR</th>\n",
       "      <th>AR</th>\n",
       "      <th>Avg&gt;2.5</th>\n",
       "      <th>Avg&lt;2.5</th>\n",
       "      <th>AvgH</th>\n",
       "      <th>AvgA</th>\n",
       "      <th>AvgD</th>\n",
       "      <th>TSRH</th>\n",
       "      <th>TSRA</th>\n",
       "    </tr>\n",
       "  </thead>\n",
       "  <tbody>\n",
       "    <tr>\n",
       "      <th>0</th>\n",
       "      <td>E0</td>\n",
       "      <td>14/08/10</td>\n",
       "      <td>Aston Villa</td>\n",
       "      <td>West Ham</td>\n",
       "      <td>3.0</td>\n",
       "      <td>0.0</td>\n",
       "      <td>H</td>\n",
       "      <td>2.0</td>\n",
       "      <td>0.0</td>\n",
       "      <td>H</td>\n",
       "      <td>...</td>\n",
       "      <td>2.0</td>\n",
       "      <td>0.0</td>\n",
       "      <td>0.0</td>\n",
       "      <td>2.01</td>\n",
       "      <td>1.75</td>\n",
       "      <td>1.907143</td>\n",
       "      <td>4.141429</td>\n",
       "      <td>3.328571</td>\n",
       "      <td>0.478261</td>\n",
       "      <td>0.166667</td>\n",
       "    </tr>\n",
       "    <tr>\n",
       "      <th>1</th>\n",
       "      <td>E0</td>\n",
       "      <td>14/08/10</td>\n",
       "      <td>Blackburn</td>\n",
       "      <td>Everton</td>\n",
       "      <td>1.0</td>\n",
       "      <td>0.0</td>\n",
       "      <td>H</td>\n",
       "      <td>1.0</td>\n",
       "      <td>0.0</td>\n",
       "      <td>H</td>\n",
       "      <td>...</td>\n",
       "      <td>1.0</td>\n",
       "      <td>0.0</td>\n",
       "      <td>0.0</td>\n",
       "      <td>2.08</td>\n",
       "      <td>1.70</td>\n",
       "      <td>2.840000</td>\n",
       "      <td>2.467143</td>\n",
       "      <td>3.250000</td>\n",
       "      <td>0.285714</td>\n",
       "      <td>0.705882</td>\n",
       "    </tr>\n",
       "    <tr>\n",
       "      <th>2</th>\n",
       "      <td>E0</td>\n",
       "      <td>14/08/10</td>\n",
       "      <td>Bolton</td>\n",
       "      <td>Fulham</td>\n",
       "      <td>0.0</td>\n",
       "      <td>0.0</td>\n",
       "      <td>D</td>\n",
       "      <td>0.0</td>\n",
       "      <td>0.0</td>\n",
       "      <td>D</td>\n",
       "      <td>...</td>\n",
       "      <td>3.0</td>\n",
       "      <td>0.0</td>\n",
       "      <td>0.0</td>\n",
       "      <td>2.09</td>\n",
       "      <td>1.69</td>\n",
       "      <td>2.192857</td>\n",
       "      <td>3.295714</td>\n",
       "      <td>3.258571</td>\n",
       "      <td>0.692308</td>\n",
       "      <td>0.583333</td>\n",
       "    </tr>\n",
       "    <tr>\n",
       "      <th>3</th>\n",
       "      <td>E0</td>\n",
       "      <td>14/08/10</td>\n",
       "      <td>Chelsea</td>\n",
       "      <td>West Brom</td>\n",
       "      <td>6.0</td>\n",
       "      <td>0.0</td>\n",
       "      <td>H</td>\n",
       "      <td>2.0</td>\n",
       "      <td>0.0</td>\n",
       "      <td>H</td>\n",
       "      <td>...</td>\n",
       "      <td>0.0</td>\n",
       "      <td>0.0</td>\n",
       "      <td>0.0</td>\n",
       "      <td>1.49</td>\n",
       "      <td>2.49</td>\n",
       "      <td>1.158571</td>\n",
       "      <td>17.352857</td>\n",
       "      <td>6.907143</td>\n",
       "      <td>0.722222</td>\n",
       "      <td>0.400000</td>\n",
       "    </tr>\n",
       "    <tr>\n",
       "      <th>4</th>\n",
       "      <td>E0</td>\n",
       "      <td>14/08/10</td>\n",
       "      <td>Sunderland</td>\n",
       "      <td>Birmingham</td>\n",
       "      <td>2.0</td>\n",
       "      <td>2.0</td>\n",
       "      <td>D</td>\n",
       "      <td>1.0</td>\n",
       "      <td>0.0</td>\n",
       "      <td>H</td>\n",
       "      <td>...</td>\n",
       "      <td>3.0</td>\n",
       "      <td>1.0</td>\n",
       "      <td>0.0</td>\n",
       "      <td>2.16</td>\n",
       "      <td>1.65</td>\n",
       "      <td>2.140000</td>\n",
       "      <td>3.427143</td>\n",
       "      <td>3.242857</td>\n",
       "      <td>0.333333</td>\n",
       "      <td>0.538462</td>\n",
       "    </tr>\n",
       "  </tbody>\n",
       "</table>\n",
       "<p>5 rows × 29 columns</p>\n",
       "</div>"
      ],
      "text/plain": [
       "  Div      Date     HomeTeam    AwayTeam  FTHG  FTAG FTR  HTHG  HTAG HTR  ...  \\\n",
       "0  E0  14/08/10  Aston Villa    West Ham   3.0   0.0   H   2.0   0.0   H  ...   \n",
       "1  E0  14/08/10    Blackburn     Everton   1.0   0.0   H   1.0   0.0   H  ...   \n",
       "2  E0  14/08/10       Bolton      Fulham   0.0   0.0   D   0.0   0.0   D  ...   \n",
       "3  E0  14/08/10      Chelsea   West Brom   6.0   0.0   H   2.0   0.0   H  ...   \n",
       "4  E0  14/08/10   Sunderland  Birmingham   2.0   2.0   D   1.0   0.0   H  ...   \n",
       "\n",
       "    AY   HR   AR  Avg>2.5  Avg<2.5      AvgH       AvgA      AvgD      TSRH  \\\n",
       "0  2.0  0.0  0.0     2.01     1.75  1.907143   4.141429  3.328571  0.478261   \n",
       "1  1.0  0.0  0.0     2.08     1.70  2.840000   2.467143  3.250000  0.285714   \n",
       "2  3.0  0.0  0.0     2.09     1.69  2.192857   3.295714  3.258571  0.692308   \n",
       "3  0.0  0.0  0.0     1.49     2.49  1.158571  17.352857  6.907143  0.722222   \n",
       "4  3.0  1.0  0.0     2.16     1.65  2.140000   3.427143  3.242857  0.333333   \n",
       "\n",
       "       TSRA  \n",
       "0  0.166667  \n",
       "1  0.705882  \n",
       "2  0.583333  \n",
       "3  0.400000  \n",
       "4  0.538462  \n",
       "\n",
       "[5 rows x 29 columns]"
      ]
     },
     "execution_count": 17,
     "metadata": {},
     "output_type": "execute_result"
    }
   ],
   "source": [
    "all_seasons.head()"
   ]
  },
  {
   "cell_type": "code",
   "execution_count": 18,
   "metadata": {},
   "outputs": [],
   "source": [
    "all_seasons = all_seasons.replace('D1','Germany')\n",
    "all_seasons = all_seasons.replace('E0','England')\n",
    "all_seasons = all_seasons.replace('SP1','Spain')\n",
    "all_seasons = all_seasons.replace('I1','Italy')"
   ]
  },
  {
   "cell_type": "code",
   "execution_count": 19,
   "metadata": {},
   "outputs": [
    {
     "name": "stdout",
     "output_type": "stream",
     "text": [
      "['England', 'Germany', 'Spain', 'Italy']\n"
     ]
    }
   ],
   "source": [
    "print(all_seasons.Div.unique().tolist())"
   ]
  },
  {
   "cell_type": "code",
   "execution_count": 20,
   "metadata": {},
   "outputs": [
    {
     "data": {
      "text/html": [
       "<div>\n",
       "<style scoped>\n",
       "    .dataframe tbody tr th:only-of-type {\n",
       "        vertical-align: middle;\n",
       "    }\n",
       "\n",
       "    .dataframe tbody tr th {\n",
       "        vertical-align: top;\n",
       "    }\n",
       "\n",
       "    .dataframe thead th {\n",
       "        text-align: right;\n",
       "    }\n",
       "</style>\n",
       "<table border=\"1\" class=\"dataframe\">\n",
       "  <thead>\n",
       "    <tr style=\"text-align: right;\">\n",
       "      <th></th>\n",
       "      <th>Div</th>\n",
       "      <th>Date</th>\n",
       "      <th>HomeTeam</th>\n",
       "      <th>AwayTeam</th>\n",
       "      <th>FTHG</th>\n",
       "      <th>FTAG</th>\n",
       "      <th>FTR</th>\n",
       "      <th>HTHG</th>\n",
       "      <th>HTAG</th>\n",
       "      <th>HTR</th>\n",
       "      <th>...</th>\n",
       "      <th>AY</th>\n",
       "      <th>HR</th>\n",
       "      <th>AR</th>\n",
       "      <th>Avg&gt;2.5</th>\n",
       "      <th>Avg&lt;2.5</th>\n",
       "      <th>AvgH</th>\n",
       "      <th>AvgA</th>\n",
       "      <th>AvgD</th>\n",
       "      <th>TSRH</th>\n",
       "      <th>TSRA</th>\n",
       "    </tr>\n",
       "  </thead>\n",
       "  <tbody>\n",
       "    <tr>\n",
       "      <th>0</th>\n",
       "      <td>England</td>\n",
       "      <td>14/08/10</td>\n",
       "      <td>Aston Villa</td>\n",
       "      <td>West Ham</td>\n",
       "      <td>3.0</td>\n",
       "      <td>0.0</td>\n",
       "      <td>H</td>\n",
       "      <td>2.0</td>\n",
       "      <td>0.0</td>\n",
       "      <td>H</td>\n",
       "      <td>...</td>\n",
       "      <td>2.0</td>\n",
       "      <td>0.0</td>\n",
       "      <td>0.0</td>\n",
       "      <td>2.01</td>\n",
       "      <td>1.75</td>\n",
       "      <td>1.907143</td>\n",
       "      <td>4.141429</td>\n",
       "      <td>3.328571</td>\n",
       "      <td>0.478261</td>\n",
       "      <td>0.166667</td>\n",
       "    </tr>\n",
       "    <tr>\n",
       "      <th>1</th>\n",
       "      <td>England</td>\n",
       "      <td>14/08/10</td>\n",
       "      <td>Blackburn</td>\n",
       "      <td>Everton</td>\n",
       "      <td>1.0</td>\n",
       "      <td>0.0</td>\n",
       "      <td>H</td>\n",
       "      <td>1.0</td>\n",
       "      <td>0.0</td>\n",
       "      <td>H</td>\n",
       "      <td>...</td>\n",
       "      <td>1.0</td>\n",
       "      <td>0.0</td>\n",
       "      <td>0.0</td>\n",
       "      <td>2.08</td>\n",
       "      <td>1.70</td>\n",
       "      <td>2.840000</td>\n",
       "      <td>2.467143</td>\n",
       "      <td>3.250000</td>\n",
       "      <td>0.285714</td>\n",
       "      <td>0.705882</td>\n",
       "    </tr>\n",
       "    <tr>\n",
       "      <th>2</th>\n",
       "      <td>England</td>\n",
       "      <td>14/08/10</td>\n",
       "      <td>Bolton</td>\n",
       "      <td>Fulham</td>\n",
       "      <td>0.0</td>\n",
       "      <td>0.0</td>\n",
       "      <td>D</td>\n",
       "      <td>0.0</td>\n",
       "      <td>0.0</td>\n",
       "      <td>D</td>\n",
       "      <td>...</td>\n",
       "      <td>3.0</td>\n",
       "      <td>0.0</td>\n",
       "      <td>0.0</td>\n",
       "      <td>2.09</td>\n",
       "      <td>1.69</td>\n",
       "      <td>2.192857</td>\n",
       "      <td>3.295714</td>\n",
       "      <td>3.258571</td>\n",
       "      <td>0.692308</td>\n",
       "      <td>0.583333</td>\n",
       "    </tr>\n",
       "    <tr>\n",
       "      <th>3</th>\n",
       "      <td>England</td>\n",
       "      <td>14/08/10</td>\n",
       "      <td>Chelsea</td>\n",
       "      <td>West Brom</td>\n",
       "      <td>6.0</td>\n",
       "      <td>0.0</td>\n",
       "      <td>H</td>\n",
       "      <td>2.0</td>\n",
       "      <td>0.0</td>\n",
       "      <td>H</td>\n",
       "      <td>...</td>\n",
       "      <td>0.0</td>\n",
       "      <td>0.0</td>\n",
       "      <td>0.0</td>\n",
       "      <td>1.49</td>\n",
       "      <td>2.49</td>\n",
       "      <td>1.158571</td>\n",
       "      <td>17.352857</td>\n",
       "      <td>6.907143</td>\n",
       "      <td>0.722222</td>\n",
       "      <td>0.400000</td>\n",
       "    </tr>\n",
       "    <tr>\n",
       "      <th>4</th>\n",
       "      <td>England</td>\n",
       "      <td>14/08/10</td>\n",
       "      <td>Sunderland</td>\n",
       "      <td>Birmingham</td>\n",
       "      <td>2.0</td>\n",
       "      <td>2.0</td>\n",
       "      <td>D</td>\n",
       "      <td>1.0</td>\n",
       "      <td>0.0</td>\n",
       "      <td>H</td>\n",
       "      <td>...</td>\n",
       "      <td>3.0</td>\n",
       "      <td>1.0</td>\n",
       "      <td>0.0</td>\n",
       "      <td>2.16</td>\n",
       "      <td>1.65</td>\n",
       "      <td>2.140000</td>\n",
       "      <td>3.427143</td>\n",
       "      <td>3.242857</td>\n",
       "      <td>0.333333</td>\n",
       "      <td>0.538462</td>\n",
       "    </tr>\n",
       "  </tbody>\n",
       "</table>\n",
       "<p>5 rows × 29 columns</p>\n",
       "</div>"
      ],
      "text/plain": [
       "       Div      Date     HomeTeam    AwayTeam  FTHG  FTAG FTR  HTHG  HTAG HTR  \\\n",
       "0  England  14/08/10  Aston Villa    West Ham   3.0   0.0   H   2.0   0.0   H   \n",
       "1  England  14/08/10    Blackburn     Everton   1.0   0.0   H   1.0   0.0   H   \n",
       "2  England  14/08/10       Bolton      Fulham   0.0   0.0   D   0.0   0.0   D   \n",
       "3  England  14/08/10      Chelsea   West Brom   6.0   0.0   H   2.0   0.0   H   \n",
       "4  England  14/08/10   Sunderland  Birmingham   2.0   2.0   D   1.0   0.0   H   \n",
       "\n",
       "   ...   AY   HR   AR  Avg>2.5  Avg<2.5      AvgH       AvgA      AvgD  \\\n",
       "0  ...  2.0  0.0  0.0     2.01     1.75  1.907143   4.141429  3.328571   \n",
       "1  ...  1.0  0.0  0.0     2.08     1.70  2.840000   2.467143  3.250000   \n",
       "2  ...  3.0  0.0  0.0     2.09     1.69  2.192857   3.295714  3.258571   \n",
       "3  ...  0.0  0.0  0.0     1.49     2.49  1.158571  17.352857  6.907143   \n",
       "4  ...  3.0  1.0  0.0     2.16     1.65  2.140000   3.427143  3.242857   \n",
       "\n",
       "       TSRH      TSRA  \n",
       "0  0.478261  0.166667  \n",
       "1  0.285714  0.705882  \n",
       "2  0.692308  0.583333  \n",
       "3  0.722222  0.400000  \n",
       "4  0.333333  0.538462  \n",
       "\n",
       "[5 rows x 29 columns]"
      ]
     },
     "execution_count": 20,
     "metadata": {},
     "output_type": "execute_result"
    }
   ],
   "source": [
    "all_seasons.head()"
   ]
  },
  {
   "cell_type": "code",
   "execution_count": 21,
   "metadata": {},
   "outputs": [
    {
     "data": {
      "text/html": [
       "<div>\n",
       "<style scoped>\n",
       "    .dataframe tbody tr th:only-of-type {\n",
       "        vertical-align: middle;\n",
       "    }\n",
       "\n",
       "    .dataframe tbody tr th {\n",
       "        vertical-align: top;\n",
       "    }\n",
       "\n",
       "    .dataframe thead th {\n",
       "        text-align: right;\n",
       "    }\n",
       "</style>\n",
       "<table border=\"1\" class=\"dataframe\">\n",
       "  <thead>\n",
       "    <tr style=\"text-align: right;\">\n",
       "      <th></th>\n",
       "      <th>FTHG</th>\n",
       "      <th>FTAG</th>\n",
       "      <th>HTHG</th>\n",
       "      <th>HTAG</th>\n",
       "      <th>HS</th>\n",
       "      <th>AS</th>\n",
       "      <th>HST</th>\n",
       "      <th>AST</th>\n",
       "      <th>HF</th>\n",
       "      <th>AF</th>\n",
       "      <th>...</th>\n",
       "      <th>AY</th>\n",
       "      <th>HR</th>\n",
       "      <th>AR</th>\n",
       "      <th>Avg&gt;2.5</th>\n",
       "      <th>Avg&lt;2.5</th>\n",
       "      <th>AvgH</th>\n",
       "      <th>AvgA</th>\n",
       "      <th>AvgD</th>\n",
       "      <th>TSRH</th>\n",
       "      <th>TSRA</th>\n",
       "    </tr>\n",
       "  </thead>\n",
       "  <tbody>\n",
       "    <tr>\n",
       "      <th>count</th>\n",
       "      <td>18149.000000</td>\n",
       "      <td>18149.000000</td>\n",
       "      <td>18149.000000</td>\n",
       "      <td>18149.000000</td>\n",
       "      <td>18149.000000</td>\n",
       "      <td>18149.000000</td>\n",
       "      <td>18149.000000</td>\n",
       "      <td>18149.000000</td>\n",
       "      <td>18149.000000</td>\n",
       "      <td>18149.000000</td>\n",
       "      <td>...</td>\n",
       "      <td>18149.000000</td>\n",
       "      <td>18149.000000</td>\n",
       "      <td>18149.000000</td>\n",
       "      <td>18149.000000</td>\n",
       "      <td>18149.000000</td>\n",
       "      <td>18149.000000</td>\n",
       "      <td>18149.000000</td>\n",
       "      <td>18149.000000</td>\n",
       "      <td>18149.000000</td>\n",
       "      <td>18149.000000</td>\n",
       "    </tr>\n",
       "    <tr>\n",
       "      <th>mean</th>\n",
       "      <td>1.584826</td>\n",
       "      <td>1.234228</td>\n",
       "      <td>0.702959</td>\n",
       "      <td>0.543501</td>\n",
       "      <td>13.906441</td>\n",
       "      <td>11.345914</td>\n",
       "      <td>5.194997</td>\n",
       "      <td>4.219241</td>\n",
       "      <td>12.876908</td>\n",
       "      <td>13.190809</td>\n",
       "      <td>...</td>\n",
       "      <td>2.169321</td>\n",
       "      <td>0.086341</td>\n",
       "      <td>0.113009</td>\n",
       "      <td>1.824523</td>\n",
       "      <td>2.104208</td>\n",
       "      <td>2.781486</td>\n",
       "      <td>4.695559</td>\n",
       "      <td>4.065549</td>\n",
       "      <td>0.377374</td>\n",
       "      <td>0.375714</td>\n",
       "    </tr>\n",
       "    <tr>\n",
       "      <th>std</th>\n",
       "      <td>1.334976</td>\n",
       "      <td>1.186752</td>\n",
       "      <td>0.854710</td>\n",
       "      <td>0.750905</td>\n",
       "      <td>5.276158</td>\n",
       "      <td>4.707784</td>\n",
       "      <td>2.826195</td>\n",
       "      <td>2.490943</td>\n",
       "      <td>4.336676</td>\n",
       "      <td>4.446931</td>\n",
       "      <td>...</td>\n",
       "      <td>1.393937</td>\n",
       "      <td>0.295408</td>\n",
       "      <td>0.338645</td>\n",
       "      <td>0.283532</td>\n",
       "      <td>0.488928</td>\n",
       "      <td>2.048291</td>\n",
       "      <td>4.162458</td>\n",
       "      <td>1.336202</td>\n",
       "      <td>0.162370</td>\n",
       "      <td>0.177941</td>\n",
       "    </tr>\n",
       "    <tr>\n",
       "      <th>min</th>\n",
       "      <td>0.000000</td>\n",
       "      <td>0.000000</td>\n",
       "      <td>0.000000</td>\n",
       "      <td>0.000000</td>\n",
       "      <td>1.000000</td>\n",
       "      <td>1.000000</td>\n",
       "      <td>0.000000</td>\n",
       "      <td>0.000000</td>\n",
       "      <td>0.000000</td>\n",
       "      <td>0.000000</td>\n",
       "      <td>...</td>\n",
       "      <td>0.000000</td>\n",
       "      <td>0.000000</td>\n",
       "      <td>0.000000</td>\n",
       "      <td>0.420000</td>\n",
       "      <td>1.380000</td>\n",
       "      <td>1.033333</td>\n",
       "      <td>1.090000</td>\n",
       "      <td>1.400000</td>\n",
       "      <td>0.000000</td>\n",
       "      <td>0.000000</td>\n",
       "    </tr>\n",
       "    <tr>\n",
       "      <th>25%</th>\n",
       "      <td>1.000000</td>\n",
       "      <td>0.000000</td>\n",
       "      <td>0.000000</td>\n",
       "      <td>0.000000</td>\n",
       "      <td>10.000000</td>\n",
       "      <td>8.000000</td>\n",
       "      <td>3.000000</td>\n",
       "      <td>2.000000</td>\n",
       "      <td>10.000000</td>\n",
       "      <td>10.000000</td>\n",
       "      <td>...</td>\n",
       "      <td>1.000000</td>\n",
       "      <td>0.000000</td>\n",
       "      <td>0.000000</td>\n",
       "      <td>1.620000</td>\n",
       "      <td>1.780000</td>\n",
       "      <td>1.670000</td>\n",
       "      <td>2.400000</td>\n",
       "      <td>3.340000</td>\n",
       "      <td>0.266667</td>\n",
       "      <td>0.250000</td>\n",
       "    </tr>\n",
       "    <tr>\n",
       "      <th>50%</th>\n",
       "      <td>1.000000</td>\n",
       "      <td>1.000000</td>\n",
       "      <td>0.000000</td>\n",
       "      <td>0.000000</td>\n",
       "      <td>13.000000</td>\n",
       "      <td>11.000000</td>\n",
       "      <td>5.000000</td>\n",
       "      <td>4.000000</td>\n",
       "      <td>13.000000</td>\n",
       "      <td>13.000000</td>\n",
       "      <td>...</td>\n",
       "      <td>2.000000</td>\n",
       "      <td>0.000000</td>\n",
       "      <td>0.000000</td>\n",
       "      <td>1.810000</td>\n",
       "      <td>1.990000</td>\n",
       "      <td>2.172857</td>\n",
       "      <td>3.398571</td>\n",
       "      <td>3.583750</td>\n",
       "      <td>0.366667</td>\n",
       "      <td>0.363636</td>\n",
       "    </tr>\n",
       "    <tr>\n",
       "      <th>75%</th>\n",
       "      <td>2.000000</td>\n",
       "      <td>2.000000</td>\n",
       "      <td>1.000000</td>\n",
       "      <td>1.000000</td>\n",
       "      <td>17.000000</td>\n",
       "      <td>14.000000</td>\n",
       "      <td>7.000000</td>\n",
       "      <td>6.000000</td>\n",
       "      <td>16.000000</td>\n",
       "      <td>16.000000</td>\n",
       "      <td>...</td>\n",
       "      <td>3.000000</td>\n",
       "      <td>0.000000</td>\n",
       "      <td>0.000000</td>\n",
       "      <td>2.030000</td>\n",
       "      <td>2.270000</td>\n",
       "      <td>2.990000</td>\n",
       "      <td>5.210000</td>\n",
       "      <td>4.210000</td>\n",
       "      <td>0.481481</td>\n",
       "      <td>0.500000</td>\n",
       "    </tr>\n",
       "    <tr>\n",
       "      <th>max</th>\n",
       "      <td>10.000000</td>\n",
       "      <td>9.000000</td>\n",
       "      <td>6.000000</td>\n",
       "      <td>6.000000</td>\n",
       "      <td>46.000000</td>\n",
       "      <td>39.000000</td>\n",
       "      <td>24.000000</td>\n",
       "      <td>20.000000</td>\n",
       "      <td>33.000000</td>\n",
       "      <td>32.000000</td>\n",
       "      <td>...</td>\n",
       "      <td>9.000000</td>\n",
       "      <td>3.000000</td>\n",
       "      <td>3.000000</td>\n",
       "      <td>2.910000</td>\n",
       "      <td>6.750000</td>\n",
       "      <td>28.154286</td>\n",
       "      <td>42.338333</td>\n",
       "      <td>19.142500</td>\n",
       "      <td>1.000000</td>\n",
       "      <td>1.125000</td>\n",
       "    </tr>\n",
       "  </tbody>\n",
       "</table>\n",
       "<p>8 rows × 23 columns</p>\n",
       "</div>"
      ],
      "text/plain": [
       "               FTHG          FTAG          HTHG          HTAG            HS  \\\n",
       "count  18149.000000  18149.000000  18149.000000  18149.000000  18149.000000   \n",
       "mean       1.584826      1.234228      0.702959      0.543501     13.906441   \n",
       "std        1.334976      1.186752      0.854710      0.750905      5.276158   \n",
       "min        0.000000      0.000000      0.000000      0.000000      1.000000   \n",
       "25%        1.000000      0.000000      0.000000      0.000000     10.000000   \n",
       "50%        1.000000      1.000000      0.000000      0.000000     13.000000   \n",
       "75%        2.000000      2.000000      1.000000      1.000000     17.000000   \n",
       "max       10.000000      9.000000      6.000000      6.000000     46.000000   \n",
       "\n",
       "                 AS           HST           AST            HF            AF  \\\n",
       "count  18149.000000  18149.000000  18149.000000  18149.000000  18149.000000   \n",
       "mean      11.345914      5.194997      4.219241     12.876908     13.190809   \n",
       "std        4.707784      2.826195      2.490943      4.336676      4.446931   \n",
       "min        1.000000      0.000000      0.000000      0.000000      0.000000   \n",
       "25%        8.000000      3.000000      2.000000     10.000000     10.000000   \n",
       "50%       11.000000      5.000000      4.000000     13.000000     13.000000   \n",
       "75%       14.000000      7.000000      6.000000     16.000000     16.000000   \n",
       "max       39.000000     24.000000     20.000000     33.000000     32.000000   \n",
       "\n",
       "       ...            AY            HR            AR       Avg>2.5  \\\n",
       "count  ...  18149.000000  18149.000000  18149.000000  18149.000000   \n",
       "mean   ...      2.169321      0.086341      0.113009      1.824523   \n",
       "std    ...      1.393937      0.295408      0.338645      0.283532   \n",
       "min    ...      0.000000      0.000000      0.000000      0.420000   \n",
       "25%    ...      1.000000      0.000000      0.000000      1.620000   \n",
       "50%    ...      2.000000      0.000000      0.000000      1.810000   \n",
       "75%    ...      3.000000      0.000000      0.000000      2.030000   \n",
       "max    ...      9.000000      3.000000      3.000000      2.910000   \n",
       "\n",
       "            Avg<2.5          AvgH          AvgA          AvgD          TSRH  \\\n",
       "count  18149.000000  18149.000000  18149.000000  18149.000000  18149.000000   \n",
       "mean       2.104208      2.781486      4.695559      4.065549      0.377374   \n",
       "std        0.488928      2.048291      4.162458      1.336202      0.162370   \n",
       "min        1.380000      1.033333      1.090000      1.400000      0.000000   \n",
       "25%        1.780000      1.670000      2.400000      3.340000      0.266667   \n",
       "50%        1.990000      2.172857      3.398571      3.583750      0.366667   \n",
       "75%        2.270000      2.990000      5.210000      4.210000      0.481481   \n",
       "max        6.750000     28.154286     42.338333     19.142500      1.000000   \n",
       "\n",
       "               TSRA  \n",
       "count  18149.000000  \n",
       "mean       0.375714  \n",
       "std        0.177941  \n",
       "min        0.000000  \n",
       "25%        0.250000  \n",
       "50%        0.363636  \n",
       "75%        0.500000  \n",
       "max        1.125000  \n",
       "\n",
       "[8 rows x 23 columns]"
      ]
     },
     "execution_count": 21,
     "metadata": {},
     "output_type": "execute_result"
    }
   ],
   "source": [
    "all_seasons.describe()"
   ]
  },
  {
   "cell_type": "markdown",
   "metadata": {},
   "source": [
    "**Dataset exploration and visualization**"
   ]
  },
  {
   "cell_type": "markdown",
   "metadata": {},
   "source": [
    "Variables:"
   ]
  },
  {
   "cell_type": "markdown",
   "metadata": {},
   "source": [
    "Date (date of game)"
   ]
  },
  {
   "cell_type": "code",
   "execution_count": 22,
   "metadata": {},
   "outputs": [
    {
     "data": {
      "text/plain": [
       "count        18149\n",
       "unique        2323\n",
       "top       07/04/12\n",
       "freq            29\n",
       "Name: Date, dtype: object"
      ]
     },
     "execution_count": 22,
     "metadata": {},
     "output_type": "execute_result"
    }
   ],
   "source": [
    "all_seasons.Date.describe()"
   ]
  },
  {
   "cell_type": "markdown",
   "metadata": {},
   "source": [
    "Teams (Home Team and Away Team)"
   ]
  },
  {
   "cell_type": "code",
   "execution_count": 23,
   "metadata": {},
   "outputs": [
    {
     "data": {
      "text/plain": [
       "count          18149\n",
       "unique           141\n",
       "top       Leverkusen\n",
       "freq             281\n",
       "Name: HomeTeam, dtype: object"
      ]
     },
     "execution_count": 23,
     "metadata": {},
     "output_type": "execute_result"
    }
   ],
   "source": [
    "all_seasons.HomeTeam.describe()"
   ]
  },
  {
   "cell_type": "code",
   "execution_count": 24,
   "metadata": {},
   "outputs": [
    {
     "data": {
      "text/plain": [
       "count        18149\n",
       "unique         141\n",
       "top       Dortmund\n",
       "freq           283\n",
       "Name: AwayTeam, dtype: object"
      ]
     },
     "execution_count": 24,
     "metadata": {},
     "output_type": "execute_result"
    }
   ],
   "source": [
    "all_seasons.AwayTeam.describe()"
   ]
  },
  {
   "cell_type": "markdown",
   "metadata": {},
   "source": [
    "Full Time Result"
   ]
  },
  {
   "cell_type": "code",
   "execution_count": 25,
   "metadata": {},
   "outputs": [
    {
     "data": {
      "text/plain": [
       "D    4439\n",
       "A    5502\n",
       "H    8208\n",
       "Name: FTR, dtype: int64"
      ]
     },
     "execution_count": 25,
     "metadata": {},
     "output_type": "execute_result"
    }
   ],
   "source": [
    "df_ftr = all_seasons['FTR'].value_counts(ascending=True)\n",
    "df_ftr"
   ]
  },
  {
   "cell_type": "code",
   "execution_count": 26,
   "metadata": {},
   "outputs": [
    {
     "data": {
      "image/png": "[encoded data removed]",
      "text/plain": [
       "<Figure size 432x288 with 1 Axes>"
      ]
     },
     "metadata": {},
     "output_type": "display_data"
    }
   ],
   "source": [
    "plt.pie(df_ftr, labels = ['Draw','AwayTeam Win','HomeTeam Win'], autopct='%1.2f%%',startangle=90,colors=['#DCE0E6','#007878','#CD5E7D'])\n",
    "plt.legend(title = \"Result\")\n",
    "plt.title('Distribution of final results')\n",
    "plt.show()"
   ]
  },
  {
   "cell_type": "markdown",
   "metadata": {},
   "source": [
    "Half-time Result"
   ]
  },
  {
   "cell_type": "code",
   "execution_count": 27,
   "metadata": {},
   "outputs": [
    {
     "data": {
      "text/plain": [
       "A    4492\n",
       "H    6304\n",
       "D    7353\n",
       "Name: HTR, dtype: int64"
      ]
     },
     "execution_count": 27,
     "metadata": {},
     "output_type": "execute_result"
    }
   ],
   "source": [
    "df_htr = all_seasons['HTR'].value_counts(ascending=True)\n",
    "df_htr"
   ]
  },
  {
   "cell_type": "code",
   "execution_count": 28,
   "metadata": {},
   "outputs": [
    {
     "data": {
      "image/png": "[encoded data removed]",
      "text/plain": [
       "<Figure size 432x288 with 1 Axes>"
      ]
     },
     "metadata": {},
     "output_type": "display_data"
    }
   ],
   "source": [
    "plt.pie(df_htr, labels = ['AwayTeam Win','HomeTeam Win', 'Draw'], autopct='%1.2f%%',startangle=90,colors=['#007878','#CD5E7D','#DCE0E6'])\n",
    "plt.legend(title = \"Result\")\n",
    "plt.title('Distribution of half-time results')\n",
    "plt.show()"
   ]
  },
  {
   "cell_type": "markdown",
   "metadata": {},
   "source": [
    "Number of shots by team"
   ]
  },
  {
   "cell_type": "code",
   "execution_count": 29,
   "metadata": {},
   "outputs": [
    {
     "data": {
      "image/png": "[encoded data removed]",
      "text/plain": [
       "<Figure size 640x480 with 1 Axes>"
      ]
     },
     "metadata": {
      "needs_background": "light"
     },
     "output_type": "display_data"
    },
    {
     "name": "stdout",
     "output_type": "stream",
     "text": [
      "\n"
     ]
    }
   ],
   "source": [
    "df = all_seasons[['HS','AS']]\n",
    "shots_df=pd.melt(df)\n",
    "shots_df.rename(columns = {'variable':'team'}, inplace = True)\n",
    "shots_df['team'] = shots_df['team'].replace(['HS','AS'], ['Home Team','Away Team'])\n",
    "\n",
    "print(\n",
    "    ggplot(shots_df, aes(x = 'team', y = 'value' , fill = 'factor(team)')) +\n",
    "          geom_boxplot()+\n",
    "          theme_minimal()+\n",
    "          labs(title = 'Number of shots by teams', x = 'Team', y = 'Number of shots')\n",
    "    )\n"
   ]
  },
  {
   "cell_type": "code",
   "execution_count": 30,
   "metadata": {},
   "outputs": [
    {
     "data": {
      "text/html": [
       "<div>\n",
       "<style scoped>\n",
       "    .dataframe tbody tr th:only-of-type {\n",
       "        vertical-align: middle;\n",
       "    }\n",
       "\n",
       "    .dataframe tbody tr th {\n",
       "        vertical-align: top;\n",
       "    }\n",
       "\n",
       "    .dataframe thead tr th {\n",
       "        text-align: left;\n",
       "    }\n",
       "\n",
       "    .dataframe thead tr:last-of-type th {\n",
       "        text-align: right;\n",
       "    }\n",
       "</style>\n",
       "<table border=\"1\" class=\"dataframe\">\n",
       "  <thead>\n",
       "    <tr>\n",
       "      <th></th>\n",
       "      <th colspan=\"8\" halign=\"left\">value</th>\n",
       "    </tr>\n",
       "    <tr>\n",
       "      <th></th>\n",
       "      <th>count</th>\n",
       "      <th>mean</th>\n",
       "      <th>std</th>\n",
       "      <th>min</th>\n",
       "      <th>25%</th>\n",
       "      <th>50%</th>\n",
       "      <th>75%</th>\n",
       "      <th>max</th>\n",
       "    </tr>\n",
       "    <tr>\n",
       "      <th>team</th>\n",
       "      <th></th>\n",
       "      <th></th>\n",
       "      <th></th>\n",
       "      <th></th>\n",
       "      <th></th>\n",
       "      <th></th>\n",
       "      <th></th>\n",
       "      <th></th>\n",
       "    </tr>\n",
       "  </thead>\n",
       "  <tbody>\n",
       "    <tr>\n",
       "      <th>Away Team</th>\n",
       "      <td>18149.0</td>\n",
       "      <td>11.345914</td>\n",
       "      <td>4.707784</td>\n",
       "      <td>1.0</td>\n",
       "      <td>8.0</td>\n",
       "      <td>11.0</td>\n",
       "      <td>14.0</td>\n",
       "      <td>39.0</td>\n",
       "    </tr>\n",
       "    <tr>\n",
       "      <th>Home Team</th>\n",
       "      <td>18149.0</td>\n",
       "      <td>13.906441</td>\n",
       "      <td>5.276158</td>\n",
       "      <td>1.0</td>\n",
       "      <td>10.0</td>\n",
       "      <td>13.0</td>\n",
       "      <td>17.0</td>\n",
       "      <td>46.0</td>\n",
       "    </tr>\n",
       "  </tbody>\n",
       "</table>\n",
       "</div>"
      ],
      "text/plain": [
       "             value                                                  \n",
       "             count       mean       std  min   25%   50%   75%   max\n",
       "team                                                                \n",
       "Away Team  18149.0  11.345914  4.707784  1.0   8.0  11.0  14.0  39.0\n",
       "Home Team  18149.0  13.906441  5.276158  1.0  10.0  13.0  17.0  46.0"
      ]
     },
     "execution_count": 30,
     "metadata": {},
     "output_type": "execute_result"
    }
   ],
   "source": [
    "shots_df.groupby(by=\"team\").describe()"
   ]
  },
  {
   "cell_type": "markdown",
   "metadata": {},
   "source": [
    "Number of shots on target by team"
   ]
  },
  {
   "cell_type": "code",
   "execution_count": 31,
   "metadata": {},
   "outputs": [
    {
     "data": {
      "image/png": "[encoded data removed]",
      "text/plain": [
       "<Figure size 640x480 with 1 Axes>"
      ]
     },
     "metadata": {
      "needs_background": "light"
     },
     "output_type": "display_data"
    },
    {
     "name": "stdout",
     "output_type": "stream",
     "text": [
      "\n"
     ]
    }
   ],
   "source": [
    "df = all_seasons[['HST','AST']]\n",
    "st_df=pd.melt(df)\n",
    "st_df.rename(columns = {'variable':'team'}, inplace = True)\n",
    "st_df['team'] = st_df['team'].replace(['HST','AST'], ['Home Team','Away Team'])\n",
    "\n",
    "print(\n",
    "    ggplot(st_df, aes(x = 'team', y = 'value' , fill = 'factor(team)')) +\n",
    "          geom_boxplot()+\n",
    "          theme_minimal()+\n",
    "          labs(title = 'Number of shots on target by teams', x = 'Team', y = 'Number of shots on target')\n",
    "    )"
   ]
  },
  {
   "cell_type": "code",
   "execution_count": 32,
   "metadata": {},
   "outputs": [
    {
     "data": {
      "text/html": [
       "<div>\n",
       "<style scoped>\n",
       "    .dataframe tbody tr th:only-of-type {\n",
       "        vertical-align: middle;\n",
       "    }\n",
       "\n",
       "    .dataframe tbody tr th {\n",
       "        vertical-align: top;\n",
       "    }\n",
       "\n",
       "    .dataframe thead tr th {\n",
       "        text-align: left;\n",
       "    }\n",
       "\n",
       "    .dataframe thead tr:last-of-type th {\n",
       "        text-align: right;\n",
       "    }\n",
       "</style>\n",
       "<table border=\"1\" class=\"dataframe\">\n",
       "  <thead>\n",
       "    <tr>\n",
       "      <th></th>\n",
       "      <th colspan=\"8\" halign=\"left\">value</th>\n",
       "    </tr>\n",
       "    <tr>\n",
       "      <th></th>\n",
       "      <th>count</th>\n",
       "      <th>mean</th>\n",
       "      <th>std</th>\n",
       "      <th>min</th>\n",
       "      <th>25%</th>\n",
       "      <th>50%</th>\n",
       "      <th>75%</th>\n",
       "      <th>max</th>\n",
       "    </tr>\n",
       "    <tr>\n",
       "      <th>team</th>\n",
       "      <th></th>\n",
       "      <th></th>\n",
       "      <th></th>\n",
       "      <th></th>\n",
       "      <th></th>\n",
       "      <th></th>\n",
       "      <th></th>\n",
       "      <th></th>\n",
       "    </tr>\n",
       "  </thead>\n",
       "  <tbody>\n",
       "    <tr>\n",
       "      <th>Away Team</th>\n",
       "      <td>18149.0</td>\n",
       "      <td>4.219241</td>\n",
       "      <td>2.490943</td>\n",
       "      <td>0.0</td>\n",
       "      <td>2.0</td>\n",
       "      <td>4.0</td>\n",
       "      <td>6.0</td>\n",
       "      <td>20.0</td>\n",
       "    </tr>\n",
       "    <tr>\n",
       "      <th>Home Team</th>\n",
       "      <td>18149.0</td>\n",
       "      <td>5.194997</td>\n",
       "      <td>2.826195</td>\n",
       "      <td>0.0</td>\n",
       "      <td>3.0</td>\n",
       "      <td>5.0</td>\n",
       "      <td>7.0</td>\n",
       "      <td>24.0</td>\n",
       "    </tr>\n",
       "  </tbody>\n",
       "</table>\n",
       "</div>"
      ],
      "text/plain": [
       "             value                                              \n",
       "             count      mean       std  min  25%  50%  75%   max\n",
       "team                                                            \n",
       "Away Team  18149.0  4.219241  2.490943  0.0  2.0  4.0  6.0  20.0\n",
       "Home Team  18149.0  5.194997  2.826195  0.0  3.0  5.0  7.0  24.0"
      ]
     },
     "execution_count": 32,
     "metadata": {},
     "output_type": "execute_result"
    }
   ],
   "source": [
    "st_df.groupby(by=\"team\").describe()"
   ]
  },
  {
   "cell_type": "markdown",
   "metadata": {},
   "source": [
    "Fouls"
   ]
  },
  {
   "cell_type": "code",
   "execution_count": 33,
   "metadata": {},
   "outputs": [
    {
     "data": {
      "image/png": "[encoded data removed]",
      "text/plain": [
       "<Figure size 640x480 with 1 Axes>"
      ]
     },
     "metadata": {
      "needs_background": "light"
     },
     "output_type": "display_data"
    },
    {
     "name": "stdout",
     "output_type": "stream",
     "text": [
      "\n"
     ]
    }
   ],
   "source": [
    "df = all_seasons[['HF','AF']]\n",
    "fouls_df=pd.melt(df)\n",
    "fouls_df.rename(columns = {'variable':'team'}, inplace = True)\n",
    "fouls_df['team'] = fouls_df['team'].replace(['HF','AF'], ['Home Team','Away Team'])\n",
    "\n",
    "print(\n",
    "    ggplot(fouls_df, aes(x = 'team', y = 'value' , fill = 'factor(team)')) +\n",
    "          geom_boxplot()+\n",
    "          theme_minimal()+\n",
    "          labs(title = 'Number of fouls committed by team', x = 'Team', y = 'Number of fouls')\n",
    "    )"
   ]
  },
  {
   "cell_type": "code",
   "execution_count": 34,
   "metadata": {},
   "outputs": [
    {
     "data": {
      "text/html": [
       "<div>\n",
       "<style scoped>\n",
       "    .dataframe tbody tr th:only-of-type {\n",
       "        vertical-align: middle;\n",
       "    }\n",
       "\n",
       "    .dataframe tbody tr th {\n",
       "        vertical-align: top;\n",
       "    }\n",
       "\n",
       "    .dataframe thead tr th {\n",
       "        text-align: left;\n",
       "    }\n",
       "\n",
       "    .dataframe thead tr:last-of-type th {\n",
       "        text-align: right;\n",
       "    }\n",
       "</style>\n",
       "<table border=\"1\" class=\"dataframe\">\n",
       "  <thead>\n",
       "    <tr>\n",
       "      <th></th>\n",
       "      <th colspan=\"8\" halign=\"left\">value</th>\n",
       "    </tr>\n",
       "    <tr>\n",
       "      <th></th>\n",
       "      <th>count</th>\n",
       "      <th>mean</th>\n",
       "      <th>std</th>\n",
       "      <th>min</th>\n",
       "      <th>25%</th>\n",
       "      <th>50%</th>\n",
       "      <th>75%</th>\n",
       "      <th>max</th>\n",
       "    </tr>\n",
       "    <tr>\n",
       "      <th>team</th>\n",
       "      <th></th>\n",
       "      <th></th>\n",
       "      <th></th>\n",
       "      <th></th>\n",
       "      <th></th>\n",
       "      <th></th>\n",
       "      <th></th>\n",
       "      <th></th>\n",
       "    </tr>\n",
       "  </thead>\n",
       "  <tbody>\n",
       "    <tr>\n",
       "      <th>Away Team</th>\n",
       "      <td>18149.0</td>\n",
       "      <td>13.190809</td>\n",
       "      <td>4.446931</td>\n",
       "      <td>0.0</td>\n",
       "      <td>10.0</td>\n",
       "      <td>13.0</td>\n",
       "      <td>16.0</td>\n",
       "      <td>32.0</td>\n",
       "    </tr>\n",
       "    <tr>\n",
       "      <th>Home Team</th>\n",
       "      <td>18149.0</td>\n",
       "      <td>12.876908</td>\n",
       "      <td>4.336676</td>\n",
       "      <td>0.0</td>\n",
       "      <td>10.0</td>\n",
       "      <td>13.0</td>\n",
       "      <td>16.0</td>\n",
       "      <td>33.0</td>\n",
       "    </tr>\n",
       "  </tbody>\n",
       "</table>\n",
       "</div>"
      ],
      "text/plain": [
       "             value                                                  \n",
       "             count       mean       std  min   25%   50%   75%   max\n",
       "team                                                                \n",
       "Away Team  18149.0  13.190809  4.446931  0.0  10.0  13.0  16.0  32.0\n",
       "Home Team  18149.0  12.876908  4.336676  0.0  10.0  13.0  16.0  33.0"
      ]
     },
     "execution_count": 34,
     "metadata": {},
     "output_type": "execute_result"
    }
   ],
   "source": [
    "fouls_df.groupby(by=\"team\").describe()"
   ]
  },
  {
   "cell_type": "markdown",
   "metadata": {},
   "source": [
    "Corner kicks"
   ]
  },
  {
   "cell_type": "code",
   "execution_count": 35,
   "metadata": {},
   "outputs": [
    {
     "data": {
      "image/png": "[encoded data removed]",
      "text/plain": [
       "<Figure size 640x480 with 1 Axes>"
      ]
     },
     "metadata": {
      "needs_background": "light"
     },
     "output_type": "display_data"
    },
    {
     "name": "stdout",
     "output_type": "stream",
     "text": [
      "\n"
     ]
    }
   ],
   "source": [
    "df = all_seasons[['HC','AC']]\n",
    "corners_df=pd.melt(df)\n",
    "corners_df.rename(columns = {'variable':'team'}, inplace = True)\n",
    "corners_df['team'] = corners_df['team'].replace(['HC','AC'], ['Home Team','Away Team'])\n",
    "\n",
    "print(\n",
    "    ggplot(corners_df, aes(x = 'team', y = 'value' , fill = 'factor(team)')) +\n",
    "          geom_boxplot()+\n",
    "          theme_minimal()+\n",
    "          labs(title = 'Number of corner kicks by team', x = 'Team', y = 'Number of corner kicks')\n",
    "    )"
   ]
  },
  {
   "cell_type": "code",
   "execution_count": 36,
   "metadata": {},
   "outputs": [
    {
     "data": {
      "text/html": [
       "<div>\n",
       "<style scoped>\n",
       "    .dataframe tbody tr th:only-of-type {\n",
       "        vertical-align: middle;\n",
       "    }\n",
       "\n",
       "    .dataframe tbody tr th {\n",
       "        vertical-align: top;\n",
       "    }\n",
       "\n",
       "    .dataframe thead tr th {\n",
       "        text-align: left;\n",
       "    }\n",
       "\n",
       "    .dataframe thead tr:last-of-type th {\n",
       "        text-align: right;\n",
       "    }\n",
       "</style>\n",
       "<table border=\"1\" class=\"dataframe\">\n",
       "  <thead>\n",
       "    <tr>\n",
       "      <th></th>\n",
       "      <th colspan=\"8\" halign=\"left\">value</th>\n",
       "    </tr>\n",
       "    <tr>\n",
       "      <th></th>\n",
       "      <th>count</th>\n",
       "      <th>mean</th>\n",
       "      <th>std</th>\n",
       "      <th>min</th>\n",
       "      <th>25%</th>\n",
       "      <th>50%</th>\n",
       "      <th>75%</th>\n",
       "      <th>max</th>\n",
       "    </tr>\n",
       "    <tr>\n",
       "      <th>team</th>\n",
       "      <th></th>\n",
       "      <th></th>\n",
       "      <th></th>\n",
       "      <th></th>\n",
       "      <th></th>\n",
       "      <th></th>\n",
       "      <th></th>\n",
       "      <th></th>\n",
       "    </tr>\n",
       "  </thead>\n",
       "  <tbody>\n",
       "    <tr>\n",
       "      <th>Away Team</th>\n",
       "      <td>18149.0</td>\n",
       "      <td>4.563392</td>\n",
       "      <td>2.634777</td>\n",
       "      <td>0.0</td>\n",
       "      <td>3.0</td>\n",
       "      <td>4.0</td>\n",
       "      <td>6.0</td>\n",
       "      <td>19.0</td>\n",
       "    </tr>\n",
       "    <tr>\n",
       "      <th>Home Team</th>\n",
       "      <td>18149.0</td>\n",
       "      <td>5.666869</td>\n",
       "      <td>3.015078</td>\n",
       "      <td>0.0</td>\n",
       "      <td>3.0</td>\n",
       "      <td>5.0</td>\n",
       "      <td>7.0</td>\n",
       "      <td>21.0</td>\n",
       "    </tr>\n",
       "  </tbody>\n",
       "</table>\n",
       "</div>"
      ],
      "text/plain": [
       "             value                                              \n",
       "             count      mean       std  min  25%  50%  75%   max\n",
       "team                                                            \n",
       "Away Team  18149.0  4.563392  2.634777  0.0  3.0  4.0  6.0  19.0\n",
       "Home Team  18149.0  5.666869  3.015078  0.0  3.0  5.0  7.0  21.0"
      ]
     },
     "execution_count": 36,
     "metadata": {},
     "output_type": "execute_result"
    }
   ],
   "source": [
    "corners_df.groupby(by=\"team\").describe()"
   ]
  },
  {
   "cell_type": "markdown",
   "metadata": {},
   "source": [
    "Yellow and Red Cards"
   ]
  },
  {
   "cell_type": "code",
   "execution_count": 37,
   "metadata": {},
   "outputs": [],
   "source": [
    "df = all_seasons[['HY','AY']]\n",
    "yell_cards_df=pd.melt(df)\n",
    "yell_cards_df.rename(columns = {'variable':'team'}, inplace = True)\n",
    "yell_cards_df['team'] = yell_cards_df['team'].replace(['HY','AY'], ['Home Team','Away Team'])"
   ]
  },
  {
   "cell_type": "code",
   "execution_count": 38,
   "metadata": {},
   "outputs": [],
   "source": [
    "df = all_seasons[['HR','AR']]\n",
    "red_cards_df=pd.melt(df)\n",
    "red_cards_df.rename(columns = {'variable':'team'}, inplace = True)\n",
    "red_cards_df['team'] = red_cards_df['team'].replace(['HR','AR'], ['Home Team','Away Team'])"
   ]
  },
  {
   "cell_type": "code",
   "execution_count": 39,
   "metadata": {},
   "outputs": [
    {
     "data": {
      "text/plain": [
       "<BarContainer object of 36298 artists>"
      ]
     },
     "execution_count": 39,
     "metadata": {},
     "output_type": "execute_result"
    },
    {
     "data": {
      "image/png": "[encoded data removed]",
      "text/plain": [
       "<Figure size 432x288 with 1 Axes>"
      ]
     },
     "metadata": {
      "needs_background": "light"
     },
     "output_type": "display_data"
    }
   ],
   "source": [
    "plt.bar(yell_cards_df['team'],yell_cards_df['value'],color = ['pink'])\n",
    "plt.bar(red_cards_df['team'],red_cards_df['value'],color = ['#6BBDA2'])"
   ]
  },
  {
   "cell_type": "code",
   "execution_count": 40,
   "metadata": {},
   "outputs": [
    {
     "data": {
      "text/html": [
       "<div>\n",
       "<style scoped>\n",
       "    .dataframe tbody tr th:only-of-type {\n",
       "        vertical-align: middle;\n",
       "    }\n",
       "\n",
       "    .dataframe tbody tr th {\n",
       "        vertical-align: top;\n",
       "    }\n",
       "\n",
       "    .dataframe thead th {\n",
       "        text-align: right;\n",
       "    }\n",
       "</style>\n",
       "<table border=\"1\" class=\"dataframe\">\n",
       "  <thead>\n",
       "    <tr style=\"text-align: right;\">\n",
       "      <th></th>\n",
       "      <th>value</th>\n",
       "    </tr>\n",
       "  </thead>\n",
       "  <tbody>\n",
       "    <tr>\n",
       "      <th>count</th>\n",
       "      <td>18149.000000</td>\n",
       "    </tr>\n",
       "    <tr>\n",
       "      <th>mean</th>\n",
       "      <td>1.912337</td>\n",
       "    </tr>\n",
       "    <tr>\n",
       "      <th>std</th>\n",
       "      <td>1.351811</td>\n",
       "    </tr>\n",
       "    <tr>\n",
       "      <th>min</th>\n",
       "      <td>0.000000</td>\n",
       "    </tr>\n",
       "    <tr>\n",
       "      <th>25%</th>\n",
       "      <td>1.000000</td>\n",
       "    </tr>\n",
       "    <tr>\n",
       "      <th>50%</th>\n",
       "      <td>2.000000</td>\n",
       "    </tr>\n",
       "    <tr>\n",
       "      <th>75%</th>\n",
       "      <td>3.000000</td>\n",
       "    </tr>\n",
       "    <tr>\n",
       "      <th>max</th>\n",
       "      <td>8.000000</td>\n",
       "    </tr>\n",
       "  </tbody>\n",
       "</table>\n",
       "</div>"
      ],
      "text/plain": [
       "              value\n",
       "count  18149.000000\n",
       "mean       1.912337\n",
       "std        1.351811\n",
       "min        0.000000\n",
       "25%        1.000000\n",
       "50%        2.000000\n",
       "75%        3.000000\n",
       "max        8.000000"
      ]
     },
     "execution_count": 40,
     "metadata": {},
     "output_type": "execute_result"
    }
   ],
   "source": [
    "yell_cards_df.where(yell_cards_df[\"team\"]==\"Home Team\").describe()"
   ]
  },
  {
   "cell_type": "code",
   "execution_count": 41,
   "metadata": {},
   "outputs": [
    {
     "data": {
      "text/html": [
       "<div>\n",
       "<style scoped>\n",
       "    .dataframe tbody tr th:only-of-type {\n",
       "        vertical-align: middle;\n",
       "    }\n",
       "\n",
       "    .dataframe tbody tr th {\n",
       "        vertical-align: top;\n",
       "    }\n",
       "\n",
       "    .dataframe thead th {\n",
       "        text-align: right;\n",
       "    }\n",
       "</style>\n",
       "<table border=\"1\" class=\"dataframe\">\n",
       "  <thead>\n",
       "    <tr style=\"text-align: right;\">\n",
       "      <th></th>\n",
       "      <th>value</th>\n",
       "    </tr>\n",
       "  </thead>\n",
       "  <tbody>\n",
       "    <tr>\n",
       "      <th>count</th>\n",
       "      <td>18149.000000</td>\n",
       "    </tr>\n",
       "    <tr>\n",
       "      <th>mean</th>\n",
       "      <td>2.169321</td>\n",
       "    </tr>\n",
       "    <tr>\n",
       "      <th>std</th>\n",
       "      <td>1.393937</td>\n",
       "    </tr>\n",
       "    <tr>\n",
       "      <th>min</th>\n",
       "      <td>0.000000</td>\n",
       "    </tr>\n",
       "    <tr>\n",
       "      <th>25%</th>\n",
       "      <td>1.000000</td>\n",
       "    </tr>\n",
       "    <tr>\n",
       "      <th>50%</th>\n",
       "      <td>2.000000</td>\n",
       "    </tr>\n",
       "    <tr>\n",
       "      <th>75%</th>\n",
       "      <td>3.000000</td>\n",
       "    </tr>\n",
       "    <tr>\n",
       "      <th>max</th>\n",
       "      <td>9.000000</td>\n",
       "    </tr>\n",
       "  </tbody>\n",
       "</table>\n",
       "</div>"
      ],
      "text/plain": [
       "              value\n",
       "count  18149.000000\n",
       "mean       2.169321\n",
       "std        1.393937\n",
       "min        0.000000\n",
       "25%        1.000000\n",
       "50%        2.000000\n",
       "75%        3.000000\n",
       "max        9.000000"
      ]
     },
     "execution_count": 41,
     "metadata": {},
     "output_type": "execute_result"
    }
   ],
   "source": [
    "yell_cards_df.where(yell_cards_df[\"team\"]==\"Away Team\").describe()"
   ]
  },
  {
   "cell_type": "code",
   "execution_count": 42,
   "metadata": {},
   "outputs": [
    {
     "data": {
      "text/html": [
       "<div>\n",
       "<style scoped>\n",
       "    .dataframe tbody tr th:only-of-type {\n",
       "        vertical-align: middle;\n",
       "    }\n",
       "\n",
       "    .dataframe tbody tr th {\n",
       "        vertical-align: top;\n",
       "    }\n",
       "\n",
       "    .dataframe thead th {\n",
       "        text-align: right;\n",
       "    }\n",
       "</style>\n",
       "<table border=\"1\" class=\"dataframe\">\n",
       "  <thead>\n",
       "    <tr style=\"text-align: right;\">\n",
       "      <th></th>\n",
       "      <th>value</th>\n",
       "    </tr>\n",
       "  </thead>\n",
       "  <tbody>\n",
       "    <tr>\n",
       "      <th>count</th>\n",
       "      <td>18149.000000</td>\n",
       "    </tr>\n",
       "    <tr>\n",
       "      <th>mean</th>\n",
       "      <td>0.113009</td>\n",
       "    </tr>\n",
       "    <tr>\n",
       "      <th>std</th>\n",
       "      <td>0.338645</td>\n",
       "    </tr>\n",
       "    <tr>\n",
       "      <th>min</th>\n",
       "      <td>0.000000</td>\n",
       "    </tr>\n",
       "    <tr>\n",
       "      <th>25%</th>\n",
       "      <td>0.000000</td>\n",
       "    </tr>\n",
       "    <tr>\n",
       "      <th>50%</th>\n",
       "      <td>0.000000</td>\n",
       "    </tr>\n",
       "    <tr>\n",
       "      <th>75%</th>\n",
       "      <td>0.000000</td>\n",
       "    </tr>\n",
       "    <tr>\n",
       "      <th>max</th>\n",
       "      <td>3.000000</td>\n",
       "    </tr>\n",
       "  </tbody>\n",
       "</table>\n",
       "</div>"
      ],
      "text/plain": [
       "              value\n",
       "count  18149.000000\n",
       "mean       0.113009\n",
       "std        0.338645\n",
       "min        0.000000\n",
       "25%        0.000000\n",
       "50%        0.000000\n",
       "75%        0.000000\n",
       "max        3.000000"
      ]
     },
     "execution_count": 42,
     "metadata": {},
     "output_type": "execute_result"
    }
   ],
   "source": [
    "red_cards_df.where(red_cards_df[\"team\"]==\"Away Team\").describe()"
   ]
  },
  {
   "cell_type": "markdown",
   "metadata": {},
   "source": [
    "Total goals per match by league"
   ]
  },
  {
   "cell_type": "code",
   "execution_count": 43,
   "metadata": {},
   "outputs": [
    {
     "data": {
      "image/png": "[encoded data removed]",
      "text/plain": [
       "<Figure size 432x288 with 1 Axes>"
      ]
     },
     "metadata": {
      "needs_background": "light"
     },
     "output_type": "display_data"
    }
   ],
   "source": [
    "all_seasons['FTG_sum'] = all_seasons[list(['FTHG','FTAG'])].sum(axis=1)\n",
    "df_ftg = all_seasons[['FTG_sum']].groupby(all_seasons['Div']).mean()\n",
    "df_ftg = df_ftg.sort_values(by=['FTG_sum'], ascending=False).head(15)\n",
    "df_ftg\n",
    "\n",
    "all_seasons.FTG_sum.where(all_seasons[\"Div\"]==\"Germany\").describe()\n",
    "all_seasons.drop(['FTG_sum'], inplace=True, axis=1)\n",
    "\n",
    "df_ftg.plot(kind='bar', edgecolor = 'black', color = '#6BBDA2', legend = None)\n",
    "plt.title('Number of goals per match by league')\n",
    "plt.ylabel('Number of goals')\n",
    "plt.xlabel('League')\n",
    "plt.show()"
   ]
  },
  {
   "cell_type": "markdown",
   "metadata": {},
   "source": [
    "Total goals in first half of game by league"
   ]
  },
  {
   "cell_type": "code",
   "execution_count": 44,
   "metadata": {},
   "outputs": [
    {
     "data": {
      "text/html": [
       "<div>\n",
       "<style scoped>\n",
       "    .dataframe tbody tr th:only-of-type {\n",
       "        vertical-align: middle;\n",
       "    }\n",
       "\n",
       "    .dataframe tbody tr th {\n",
       "        vertical-align: top;\n",
       "    }\n",
       "\n",
       "    .dataframe thead th {\n",
       "        text-align: right;\n",
       "    }\n",
       "</style>\n",
       "<table border=\"1\" class=\"dataframe\">\n",
       "  <thead>\n",
       "    <tr style=\"text-align: right;\">\n",
       "      <th></th>\n",
       "      <th>HTG_sum</th>\n",
       "    </tr>\n",
       "    <tr>\n",
       "      <th>Div</th>\n",
       "      <th></th>\n",
       "    </tr>\n",
       "  </thead>\n",
       "  <tbody>\n",
       "    <tr>\n",
       "      <th>Germany</th>\n",
       "      <td>1.334388</td>\n",
       "    </tr>\n",
       "    <tr>\n",
       "      <th>England</th>\n",
       "      <td>1.226925</td>\n",
       "    </tr>\n",
       "    <tr>\n",
       "      <th>Spain</th>\n",
       "      <td>1.213513</td>\n",
       "    </tr>\n",
       "    <tr>\n",
       "      <th>Italy</th>\n",
       "      <td>1.197308</td>\n",
       "    </tr>\n",
       "  </tbody>\n",
       "</table>\n",
       "</div>"
      ],
      "text/plain": [
       "          HTG_sum\n",
       "Div              \n",
       "Germany  1.334388\n",
       "England  1.226925\n",
       "Spain    1.213513\n",
       "Italy    1.197308"
      ]
     },
     "execution_count": 44,
     "metadata": {},
     "output_type": "execute_result"
    }
   ],
   "source": [
    "all_seasons['HTG_sum'] = all_seasons[list(['HTHG','HTAG'])].sum(axis=1)\n",
    "df_htg = all_seasons[['HTG_sum']].groupby(all_seasons['Div']).mean()\n",
    "df_htg = df_htg.sort_values(by=['HTG_sum'], ascending=False).head(15)\n",
    "df_htg"
   ]
  },
  {
   "cell_type": "code",
   "execution_count": 45,
   "metadata": {},
   "outputs": [
    {
     "data": {
      "image/png": "[encoded data removed]",
      "text/plain": [
       "<Figure size 432x288 with 1 Axes>"
      ]
     },
     "metadata": {
      "needs_background": "light"
     },
     "output_type": "display_data"
    }
   ],
   "source": [
    "all_seasons.HTG_sum.describe()\n",
    "all_seasons.drop(['HTG_sum'], inplace=True, axis=1)\n",
    "\n",
    "df_htg.plot(kind='bar', edgecolor = 'black', color = '#6BBDA2', legend = None)\n",
    "plt.title('Number of goals in first half per match by league')\n",
    "plt.ylabel('Number of goals')\n",
    "plt.xlabel('League')\n",
    "plt.show()"
   ]
  },
  {
   "cell_type": "markdown",
   "metadata": {},
   "source": [
    "The number of goals scored in matches by the home and away teams"
   ]
  },
  {
   "cell_type": "code",
   "execution_count": 46,
   "metadata": {},
   "outputs": [
    {
     "data": {
      "text/plain": [
       "count    18149.000000\n",
       "mean         1.584826\n",
       "std          1.334976\n",
       "min          0.000000\n",
       "25%          1.000000\n",
       "50%          1.000000\n",
       "75%          2.000000\n",
       "max         10.000000\n",
       "Name: FTHG, dtype: float64"
      ]
     },
     "execution_count": 46,
     "metadata": {},
     "output_type": "execute_result"
    }
   ],
   "source": [
    "all_seasons.FTHG.describe()"
   ]
  },
  {
   "cell_type": "code",
   "execution_count": 47,
   "metadata": {},
   "outputs": [
    {
     "data": {
      "text/plain": [
       "count    18149.000000\n",
       "mean         1.234228\n",
       "std          1.186752\n",
       "min          0.000000\n",
       "25%          0.000000\n",
       "50%          1.000000\n",
       "75%          2.000000\n",
       "max          9.000000\n",
       "Name: FTAG, dtype: float64"
      ]
     },
     "execution_count": 47,
     "metadata": {},
     "output_type": "execute_result"
    }
   ],
   "source": [
    "all_seasons.FTAG.describe()"
   ]
  },
  {
   "cell_type": "code",
   "execution_count": 48,
   "metadata": {},
   "outputs": [
    {
     "data": {
      "text/html": [
       "<div>\n",
       "<style scoped>\n",
       "    .dataframe tbody tr th:only-of-type {\n",
       "        vertical-align: middle;\n",
       "    }\n",
       "\n",
       "    .dataframe tbody tr th {\n",
       "        vertical-align: top;\n",
       "    }\n",
       "\n",
       "    .dataframe thead th {\n",
       "        text-align: right;\n",
       "    }\n",
       "</style>\n",
       "<table border=\"1\" class=\"dataframe\">\n",
       "  <thead>\n",
       "    <tr style=\"text-align: right;\">\n",
       "      <th></th>\n",
       "      <th>team</th>\n",
       "      <th>value</th>\n",
       "    </tr>\n",
       "  </thead>\n",
       "  <tbody>\n",
       "    <tr>\n",
       "      <th>0</th>\n",
       "      <td>Home Team</td>\n",
       "      <td>3.0</td>\n",
       "    </tr>\n",
       "    <tr>\n",
       "      <th>1</th>\n",
       "      <td>Home Team</td>\n",
       "      <td>1.0</td>\n",
       "    </tr>\n",
       "    <tr>\n",
       "      <th>2</th>\n",
       "      <td>Home Team</td>\n",
       "      <td>0.0</td>\n",
       "    </tr>\n",
       "    <tr>\n",
       "      <th>3</th>\n",
       "      <td>Home Team</td>\n",
       "      <td>6.0</td>\n",
       "    </tr>\n",
       "    <tr>\n",
       "      <th>4</th>\n",
       "      <td>Home Team</td>\n",
       "      <td>2.0</td>\n",
       "    </tr>\n",
       "  </tbody>\n",
       "</table>\n",
       "</div>"
      ],
      "text/plain": [
       "        team  value\n",
       "0  Home Team    3.0\n",
       "1  Home Team    1.0\n",
       "2  Home Team    0.0\n",
       "3  Home Team    6.0\n",
       "4  Home Team    2.0"
      ]
     },
     "execution_count": 48,
     "metadata": {},
     "output_type": "execute_result"
    }
   ],
   "source": [
    "df = all_seasons[['FTHG','FTAG']]\n",
    "goals_df=pd.melt(df)\n",
    "goals_df.rename(columns = {'variable':'team'}, inplace = True)\n",
    "goals_df['team'] = goals_df['team'].replace(['FTHG','FTAG'], ['Home Team','Away Team'])\n",
    "goals_df.head()"
   ]
  },
  {
   "cell_type": "code",
   "execution_count": 49,
   "metadata": {},
   "outputs": [
    {
     "data": {
      "image/png": "[encoded data removed]",
      "text/plain": [
       "<Figure size 640x480 with 1 Axes>"
      ]
     },
     "metadata": {
      "needs_background": "light"
     },
     "output_type": "display_data"
    },
    {
     "name": "stdout",
     "output_type": "stream",
     "text": [
      "\n"
     ]
    }
   ],
   "source": [
    "df = all_seasons[['FTHG','FTAG']]\n",
    "goals_df=pd.melt(df)\n",
    "goals_df.rename(columns = {'variable':'team'}, inplace = True)\n",
    "goals_df['team'] = fouls_df['team'].replace(['FTHG','FTAG'], ['Home Team','Away Team'])\n",
    "\n",
    "print(\n",
    "    ggplot(goals_df, aes(x = 'team', y = 'value' , fill = 'factor(team)')) +\n",
    "          geom_boxplot()+\n",
    "          theme_minimal()+\n",
    "          labs(title = 'Number of goals scored by Home and Away  Teams', x = 'Team', y = 'Number of goals')\n",
    "    )"
   ]
  },
  {
   "cell_type": "markdown",
   "metadata": {},
   "source": [
    "Bookmaker odds variables"
   ]
  },
  {
   "cell_type": "code",
   "execution_count": 50,
   "metadata": {},
   "outputs": [
    {
     "data": {
      "text/plain": [
       "count    18149.000000\n",
       "mean         2.781486\n",
       "std          2.048291\n",
       "min          1.033333\n",
       "25%          1.670000\n",
       "50%          2.172857\n",
       "75%          2.990000\n",
       "max         28.154286\n",
       "Name: AvgH, dtype: float64"
      ]
     },
     "execution_count": 50,
     "metadata": {},
     "output_type": "execute_result"
    }
   ],
   "source": [
    "all_seasons.AvgH.describe()"
   ]
  },
  {
   "cell_type": "code",
   "execution_count": 51,
   "metadata": {},
   "outputs": [
    {
     "data": {
      "image/png": "[encoded data removed]",
      "text/plain": [
       "<Figure size 864x432 with 1 Axes>"
      ]
     },
     "metadata": {
      "needs_background": "light"
     },
     "output_type": "display_data"
    }
   ],
   "source": [
    "plt.figure(figsize=(12,6))\n",
    "sns.histplot(data=all_seasons, x='AvgH', kde=True, color='#CD5E7D')\n",
    "\n",
    "plt.title('Distribution of bookmaker odds for the home team to win')\n",
    "plt.xlabel('Odds')\n",
    "plt.ylabel('Frequency')\n",
    "plt.grid(axis='y', alpha=0.5)\n",
    "plt.show()"
   ]
  },
  {
   "cell_type": "code",
   "execution_count": 52,
   "metadata": {},
   "outputs": [
    {
     "data": {
      "text/plain": [
       "count    18149.000000\n",
       "mean         4.695559\n",
       "std          4.162458\n",
       "min          1.090000\n",
       "25%          2.400000\n",
       "50%          3.398571\n",
       "75%          5.210000\n",
       "max         42.338333\n",
       "Name: AvgA, dtype: float64"
      ]
     },
     "execution_count": 52,
     "metadata": {},
     "output_type": "execute_result"
    }
   ],
   "source": [
    "all_seasons.AvgA.describe()"
   ]
  },
  {
   "cell_type": "code",
   "execution_count": 53,
   "metadata": {},
   "outputs": [
    {
     "data": {
      "image/png": "[encoded data removed]",
      "text/plain": [
       "<Figure size 864x432 with 1 Axes>"
      ]
     },
     "metadata": {
      "needs_background": "light"
     },
     "output_type": "display_data"
    }
   ],
   "source": [
    "plt.figure(figsize=(12,6))\n",
    "sns.histplot(data=all_seasons, x='AvgA', kde=True, color='#CD5E7D')\n",
    "\n",
    "plt.title('Distribution of bookmaker odds for the away team to win')\n",
    "plt.xlabel('Odds')\n",
    "plt.ylabel('Frequency')\n",
    "plt.grid(axis='y', alpha=0.5)\n",
    "plt.show()"
   ]
  },
  {
   "cell_type": "code",
   "execution_count": 54,
   "metadata": {},
   "outputs": [
    {
     "data": {
      "text/plain": [
       "count    18149.000000\n",
       "mean         4.065549\n",
       "std          1.336202\n",
       "min          1.400000\n",
       "25%          3.340000\n",
       "50%          3.583750\n",
       "75%          4.210000\n",
       "max         19.142500\n",
       "Name: AvgD, dtype: float64"
      ]
     },
     "execution_count": 54,
     "metadata": {},
     "output_type": "execute_result"
    }
   ],
   "source": [
    "all_seasons.AvgD.describe()"
   ]
  },
  {
   "cell_type": "code",
   "execution_count": 55,
   "metadata": {},
   "outputs": [
    {
     "data": {
      "image/png": "[encoded data removed]",
      "text/plain": [
       "<Figure size 864x432 with 1 Axes>"
      ]
     },
     "metadata": {
      "needs_background": "light"
     },
     "output_type": "display_data"
    }
   ],
   "source": [
    "plt.figure(figsize=(12,6))\n",
    "sns.histplot(data=all_seasons, x='AvgD', kde=True, color='#CD5E7D')\n",
    "\n",
    "plt.title('Distribution of bookmaker odds for draw result')\n",
    "plt.xlabel('Odds')\n",
    "plt.ylabel('Frequency')\n",
    "plt.grid(axis='y', alpha=0.5)\n",
    "plt.show()"
   ]
  },
  {
   "cell_type": "code",
   "execution_count": 56,
   "metadata": {},
   "outputs": [
    {
     "data": {
      "text/plain": [
       "count    18149.000000\n",
       "mean         1.824523\n",
       "std          0.283532\n",
       "min          0.420000\n",
       "25%          1.620000\n",
       "50%          1.810000\n",
       "75%          2.030000\n",
       "max          2.910000\n",
       "Name: Avg>2.5, dtype: float64"
      ]
     },
     "execution_count": 56,
     "metadata": {},
     "output_type": "execute_result"
    }
   ],
   "source": [
    "all_seasons['Avg>2.5'].describe()"
   ]
  },
  {
   "cell_type": "code",
   "execution_count": 57,
   "metadata": {},
   "outputs": [
    {
     "data": {
      "image/png": "[encoded data removed]",
      "text/plain": [
       "<Figure size 864x432 with 1 Axes>"
      ]
     },
     "metadata": {
      "needs_background": "light"
     },
     "output_type": "display_data"
    }
   ],
   "source": [
    "plt.figure(figsize=(12,6))\n",
    "sns.histplot(data=all_seasons, x='Avg>2.5', kde=True, color='#6BBDA2')\n",
    "\n",
    "plt.title('Distribution of bookmaker odds on over 2.5 goals in game')\n",
    "plt.xlabel('Odds')\n",
    "plt.ylabel('Frequency')\n",
    "plt.grid(axis='y', alpha=0.5)\n",
    "plt.show()"
   ]
  },
  {
   "cell_type": "code",
   "execution_count": 58,
   "metadata": {},
   "outputs": [
    {
     "data": {
      "text/plain": [
       "count    18149.000000\n",
       "mean         2.104208\n",
       "std          0.488928\n",
       "min          1.380000\n",
       "25%          1.780000\n",
       "50%          1.990000\n",
       "75%          2.270000\n",
       "max          6.750000\n",
       "Name: Avg<2.5, dtype: float64"
      ]
     },
     "execution_count": 58,
     "metadata": {},
     "output_type": "execute_result"
    }
   ],
   "source": [
    "all_seasons['Avg<2.5'].describe()"
   ]
  },
  {
   "cell_type": "code",
   "execution_count": 59,
   "metadata": {},
   "outputs": [
    {
     "data": {
      "image/png": "[encoded data removed]",
      "text/plain": [
       "<Figure size 864x432 with 1 Axes>"
      ]
     },
     "metadata": {
      "needs_background": "light"
     },
     "output_type": "display_data"
    }
   ],
   "source": [
    "import matplotlib.pyplot as plt\n",
    "import seaborn as sns\n",
    "\n",
    "plt.figure(figsize=(12,6))\n",
    "sns.histplot(data=all_seasons, x='Avg<2.5', kde=True, color='#6BBDA2')\n",
    "\n",
    "plt.title('Distribution of bookmaker odds on under 2.5 goals in game')\n",
    "plt.xlabel('Odds')\n",
    "plt.ylabel('Frequency')\n",
    "plt.grid(axis='y', alpha=0.5)\n",
    "plt.show()"
   ]
  },
  {
   "cell_type": "markdown",
   "metadata": {},
   "source": [
    "**Model building**"
   ]
  },
  {
   "cell_type": "markdown",
   "metadata": {},
   "source": [
    "Selection of variables and split of the set"
   ]
  },
  {
   "cell_type": "markdown",
   "metadata": {},
   "source": [
    "Correlation Matrix"
   ]
  },
  {
   "cell_type": "code",
   "execution_count": 61,
   "metadata": {},
   "outputs": [
    {
     "data": {
      "text/plain": [
       "<AxesSubplot:>"
      ]
     },
     "execution_count": 61,
     "metadata": {},
     "output_type": "execute_result"
    },
    {
     "data": {
      "image/png": "[encoded data removed]",
      "text/plain": [
       "<Figure size 720x576 with 2 Axes>"
      ]
     },
     "metadata": {
      "needs_background": "light"
     },
     "output_type": "display_data"
    }
   ],
   "source": [
    "f, ax = plt.subplots(figsize=(10, 8))\n",
    "corr = all_seasons.corr()\n",
    "sns.heatmap(corr,\n",
    "    cmap=sns.diverging_palette(220,360, as_cmap=True),\n",
    "    vmin=-1.0, vmax=1.0,\n",
    "    square=True, ax=ax)"
   ]
  },
  {
   "cell_type": "code",
   "execution_count": 63,
   "metadata": {},
   "outputs": [],
   "source": [
    "X = all_seasons[['HTHG','HTAG','HS','AS','HST','HF','AF','HC','AC','HY','AY','HR','AR','AvgH','Avg>2.5', 'TSRA']]\n",
    "y = all_seasons[['FTR']]"
   ]
  },
  {
   "cell_type": "code",
   "execution_count": 64,
   "metadata": {},
   "outputs": [
    {
     "data": {
      "text/plain": [
       "<AxesSubplot:>"
      ]
     },
     "execution_count": 64,
     "metadata": {},
     "output_type": "execute_result"
    },
    {
     "data": {
      "image/png": "[encoded data removed]",
      "text/plain": [
       "<Figure size 720x576 with 2 Axes>"
      ]
     },
     "metadata": {
      "needs_background": "light"
     },
     "output_type": "display_data"
    }
   ],
   "source": [
    "f, ax = plt.subplots(figsize=(10, 8))\n",
    "corr = X.corr()\n",
    "sns.heatmap(corr,\n",
    "    cmap=sns.diverging_palette(220,360, as_cmap=True),\n",
    "    vmin=-1.0, vmax=1.0,\n",
    "    square=True, ax=ax)"
   ]
  },
  {
   "cell_type": "markdown",
   "metadata": {},
   "source": [
    "Splitting data into train and test datasets"
   ]
  },
  {
   "cell_type": "code",
   "execution_count": 65,
   "metadata": {},
   "outputs": [],
   "source": [
    "X_train, X_test, Y_train, Y_test = train_test_split(X, y, test_size=0.3, random_state=42)"
   ]
  },
  {
   "cell_type": "code",
   "execution_count": 66,
   "metadata": {},
   "outputs": [
    {
     "name": "stdout",
     "output_type": "stream",
     "text": [
      "<class 'pandas.core.frame.DataFrame'>\n",
      "Int64Index: 12704 entries, 29 to 200\n",
      "Data columns (total 16 columns):\n",
      " #   Column   Non-Null Count  Dtype  \n",
      "---  ------   --------------  -----  \n",
      " 0   HTHG     12704 non-null  float64\n",
      " 1   HTAG     12704 non-null  float64\n",
      " 2   HS       12704 non-null  float64\n",
      " 3   AS       12704 non-null  float64\n",
      " 4   HST      12704 non-null  float64\n",
      " 5   HF       12704 non-null  float64\n",
      " 6   AF       12704 non-null  float64\n",
      " 7   HC       12704 non-null  float64\n",
      " 8   AC       12704 non-null  float64\n",
      " 9   HY       12704 non-null  float64\n",
      " 10  AY       12704 non-null  float64\n",
      " 11  HR       12704 non-null  float64\n",
      " 12  AR       12704 non-null  float64\n",
      " 13  AvgH     12704 non-null  float64\n",
      " 14  Avg>2.5  12704 non-null  float64\n",
      " 15  TSRA     12704 non-null  float64\n",
      "dtypes: float64(16)\n",
      "memory usage: 1.6 MB\n"
     ]
    }
   ],
   "source": [
    "X_train.info()"
   ]
  },
  {
   "cell_type": "code",
   "execution_count": 67,
   "metadata": {},
   "outputs": [
    {
     "name": "stdout",
     "output_type": "stream",
     "text": [
      "<class 'pandas.core.frame.DataFrame'>\n",
      "Int64Index: 5445 entries, 360 to 245\n",
      "Data columns (total 16 columns):\n",
      " #   Column   Non-Null Count  Dtype  \n",
      "---  ------   --------------  -----  \n",
      " 0   HTHG     5445 non-null   float64\n",
      " 1   HTAG     5445 non-null   float64\n",
      " 2   HS       5445 non-null   float64\n",
      " 3   AS       5445 non-null   float64\n",
      " 4   HST      5445 non-null   float64\n",
      " 5   HF       5445 non-null   float64\n",
      " 6   AF       5445 non-null   float64\n",
      " 7   HC       5445 non-null   float64\n",
      " 8   AC       5445 non-null   float64\n",
      " 9   HY       5445 non-null   float64\n",
      " 10  AY       5445 non-null   float64\n",
      " 11  HR       5445 non-null   float64\n",
      " 12  AR       5445 non-null   float64\n",
      " 13  AvgH     5445 non-null   float64\n",
      " 14  Avg>2.5  5445 non-null   float64\n",
      " 15  TSRA     5445 non-null   float64\n",
      "dtypes: float64(16)\n",
      "memory usage: 723.2 KB\n"
     ]
    }
   ],
   "source": [
    "X_test.info()"
   ]
  }
 ],
 "metadata": {
  "kernelspec": {
   "display_name": "Python 3",
   "language": "python",
   "name": "python3"
  },
  "language_info": {
   "codemirror_mode": {
    "name": "ipython",
    "version": 3
   },
   "file_extension": ".py",
   "mimetype": "text/x-python",
   "name": "python",
   "nbconvert_exporter": "python",
   "pygments_lexer": "ipython3",
   "version": "3.10.1"
  }
 },
 "nbformat": 4,
 "nbformat_minor": 2
}
